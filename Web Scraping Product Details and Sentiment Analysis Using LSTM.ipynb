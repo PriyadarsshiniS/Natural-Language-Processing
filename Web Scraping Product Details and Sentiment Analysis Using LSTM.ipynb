{
 "cells": [
  {
   "cell_type": "markdown",
   "metadata": {
    "id": "3YN_dSJMK1ha"
   },
   "source": [
    "URL for Ecommerce Site:\n",
    "https://www.flipkart.com/"
   ]
  },
  {
   "cell_type": "code",
   "execution_count": 122,
   "metadata": {
    "id": "s70CcxPiLcxp"
   },
   "outputs": [],
   "source": [
    "import requests\n",
    "from bs4 import BeautifulSoup\n",
    "import pandas as pd"
   ]
  },
  {
   "cell_type": "code",
   "execution_count": 2,
   "metadata": {
    "id": "lFzHKYcyL3g8"
   },
   "outputs": [
    {
     "name": "stdout",
     "output_type": "stream",
     "text": [
      "<Response [200]>\n"
     ]
    }
   ],
   "source": [
    "# Making a GET request\n",
    "url= 'https://www.flipkart.com/search?q=laptops&otracker=search&otracker1=search&marketplace=FLIPKART&as-show=on&as=off'\n",
    "webpage = requests.get(url)\n",
    "print(webpage)"
   ]
  },
  {
   "cell_type": "code",
   "execution_count": 3,
   "metadata": {},
   "outputs": [],
   "source": [
    "soup = BeautifulSoup(webpage.content, 'html.parser')"
   ]
  },
  {
   "cell_type": "code",
   "execution_count": 4,
   "metadata": {},
   "outputs": [],
   "source": [
    "# To scrape product links from product listing pages\n",
    "links=soup.find_all(\"a\", attrs={'class':'_1fQZEK'})"
   ]
  },
  {
   "cell_type": "code",
   "execution_count": 5,
   "metadata": {},
   "outputs": [
    {
     "data": {
      "text/plain": [
       "'/hp-celeron-dual-core-n4500-4-gb-128-gb-emmc-storage-chrome-os-15a-na0012tu-chromebook/p/itm7d20974c3dfce?pid=COMGNRNVW3HHPXFD&lid=LSTCOMGNRNVW3HHPXFDJRV8HQ&marketplace=FLIPKART&q=laptops&store=6bo%2Fb5g&srno=s_1_1&otracker=search&otracker1=search&fm=organic&iid=en_ITMi-OQKDMC1N79aCeZExAvzCltkM5ZrybdOt8Hqg7mvTxrrQGsPl4BBJNag-8ZQAxGv_qtU-5AsJyXnvtsgNQ%3D%3D&ppt=None&ppn=None&ssid=5r7voycxcw0000001700976599805&qH=c06ea84a1e3dc3c6'"
      ]
     },
     "execution_count": 5,
     "metadata": {},
     "output_type": "execute_result"
    }
   ],
   "source": [
    "links[0].get('href')"
   ]
  },
  {
   "cell_type": "code",
   "execution_count": 6,
   "metadata": {
    "scrolled": true
   },
   "outputs": [
    {
     "name": "stdout",
     "output_type": "stream",
     "text": [
      "Link 1\n",
      "https://www.flipkart.com/hp-celeron-dual-core-n4500-4-gb-128-gb-emmc-storage-chrome-os-15a-na0012tu-chromebook/p/itm7d20974c3dfce?pid=COMGNRNVW3HHPXFD&lid=LSTCOMGNRNVW3HHPXFDJRV8HQ&marketplace=FLIPKART&q=laptops&store=6bo%2Fb5g&srno=s_1_1&otracker=search&otracker1=search&fm=organic&iid=en_ITMi-OQKDMC1N79aCeZExAvzCltkM5ZrybdOt8Hqg7mvTxrrQGsPl4BBJNag-8ZQAxGv_qtU-5AsJyXnvtsgNQ%3D%3D&ppt=None&ppn=None&ssid=5r7voycxcw0000001700976599805&qH=c06ea84a1e3dc3c6\n",
      "Link 2\n",
      "https://www.flipkart.com/asus-vivobook-15-core-i5-11th-gen-1135g7-8-gb-512-gb-ssd-windows-11-home-x515ea-ej522ws-thin-light-laptop/p/itmbfbbf7747aa01?pid=COMGFHNGGWNDVGSY&lid=LSTCOMGFHNGGWNDVGSY5C6JML&marketplace=FLIPKART&q=laptops&store=6bo%2Fb5g&srno=s_1_2&otracker=search&otracker1=search&fm=organic&iid=en_ITMi-OQKDMC1N79aCeZExAvzCltkM5ZrybdOt8Hqg7nqvWkJxCPJG8RG2onaDe6aMKBnjElGOh5j_xhzHRB5Sw%3D%3D&ppt=None&ppn=None&ssid=5r7voycxcw0000001700976599805&qH=c06ea84a1e3dc3c6\n",
      "Link 3\n",
      "https://www.flipkart.com/acer-one-core-i3-11th-gen-1115g4-8-gb-512-gb-ssd-windows-11-home-ao-14-z-8-415-thin-light-laptop/p/itm34f24cbac6f26?pid=COMGPF5CQ7VDWDT4&lid=LSTCOMGPF5CQ7VDWDT4PET780&marketplace=FLIPKART&q=laptops&store=6bo%2Fb5g&spotlightTagId=BestsellerId_6bo%2Fb5g&srno=s_1_3&otracker=search&otracker1=search&fm=organic&iid=3b9537eb-d9db-4de2-aee9-3dd80e49e7b9.COMGPF5CQ7VDWDT4.SEARCH&ppt=None&ppn=None&ssid=5r7voycxcw0000001700976599805&qH=c06ea84a1e3dc3c6\n",
      "Link 4\n",
      "https://www.flipkart.com/hp-2023-athlon-dual-core-3050u-8-gb-512-gb-ssd-windows-11-home-15s-ey1509au-thin-light-laptop/p/itm930fe4c90a2f8?pid=COMGZVGHZXXRMWMU&lid=LSTCOMGZVGHZXXRMWMUKR6CBK&marketplace=FLIPKART&q=laptops&store=6bo%2Fb5g&srno=s_1_4&otracker=search&otracker1=search&fm=organic&iid=3b9537eb-d9db-4de2-aee9-3dd80e49e7b9.COMGZVGHZXXRMWMU.SEARCH&ppt=None&ppn=None&ssid=5r7voycxcw0000001700976599805&qH=c06ea84a1e3dc3c6\n",
      "Link 5\n",
      "https://www.flipkart.com/hp-core-i3-11th-gen-8-gb-512-gb-ssd-windows-11-home-250-g8-thin-light-laptop/p/itm6b92951a4c409?pid=COMGNFVDJQZEVH6X&lid=LSTCOMGNFVDJQZEVH6XV7DO1B&marketplace=FLIPKART&q=laptops&store=6bo%2Fb5g&srno=s_1_5&otracker=search&otracker1=search&fm=organic&iid=3b9537eb-d9db-4de2-aee9-3dd80e49e7b9.COMGNFVDJQZEVH6X.SEARCH&ppt=None&ppn=None&ssid=5r7voycxcw0000001700976599805&qH=c06ea84a1e3dc3c6\n",
      "Link 6\n",
      "https://www.flipkart.com/hp-255-g9-840t7pa-athlon-dual-core-3050u-4-gb-256-gb-ssd-dos-g8-thin-light-laptop/p/itm443a85ce1b43f?pid=COMGJ5TZFKZTRBSX&lid=LSTCOMGJ5TZFKZTRBSXHMJRRH&marketplace=FLIPKART&q=laptops&store=6bo%2Fb5g&srno=s_1_6&otracker=search&otracker1=search&fm=organic&iid=3b9537eb-d9db-4de2-aee9-3dd80e49e7b9.COMGJ5TZFKZTRBSX.SEARCH&ppt=None&ppn=None&ssid=5r7voycxcw0000001700976599805&qH=c06ea84a1e3dc3c6\n",
      "Link 7\n",
      "https://www.flipkart.com/dell-inspiron-core-i3-11th-gen-1115g4-8-gb-512-gb-ssd-windows-11-home-3511-notebook/p/itmad2b2680b5c26?pid=COMGC3HZ6GGWFXYT&lid=LSTCOMGC3HZ6GGWFXYTXQMKPA&marketplace=FLIPKART&q=laptops&store=6bo%2Fb5g&srno=s_1_7&otracker=search&otracker1=search&fm=organic&iid=3b9537eb-d9db-4de2-aee9-3dd80e49e7b9.COMGC3HZ6GGWFXYT.SEARCH&ppt=None&ppn=None&ssid=5r7voycxcw0000001700976599805&qH=c06ea84a1e3dc3c6\n",
      "Link 8\n",
      "https://www.flipkart.com/hp-intel-celeron-dual-core-n4500-4-gb-64-gb-emmc-storage-chrome-os-14a-na1004tu-chromebook/p/itm4489ddf90925c?pid=COMGKW2NUQJFVKSC&lid=LSTCOMGKW2NUQJFVKSC8789EM&marketplace=FLIPKART&q=laptops&store=6bo%2Fb5g&srno=s_1_8&otracker=search&otracker1=search&fm=organic&iid=en_ITMi-OQKDMC1N79aCeZExAvzCltkM5ZrybdOt8Hqg7nqavbatBx6fFHULq-RZhTCAYASuSBnIOgsLgtf1vOIoQ%3D%3D&ppt=None&ppn=None&ssid=5r7voycxcw0000001700976599805&qH=c06ea84a1e3dc3c6\n",
      "Link 9\n",
      "https://www.flipkart.com/hp-2023-ryzen-3-dual-core-3250u-8-gb-512-gb-ssd-windows-11-home-15s-eq1580au-thin-light-laptop/p/itm286c2761c52f0?pid=COMGZYRYCB3JVMJS&lid=LSTCOMGZYRYCB3JVMJSLOJRY5&marketplace=FLIPKART&q=laptops&store=6bo%2Fb5g&srno=s_1_9&otracker=search&otracker1=search&fm=organic&iid=3b9537eb-d9db-4de2-aee9-3dd80e49e7b9.COMGZYRYCB3JVMJS.SEARCH&ppt=None&ppn=None&ssid=5r7voycxcw0000001700976599805&qH=c06ea84a1e3dc3c6\n",
      "Link 10\n",
      "https://www.flipkart.com/lenovo-ideapad-1-athlon-dual-core-7120u-8-gb-512-gb-ssd-windows-11-home-15amn7-thin-light-laptop/p/itm920ecb24fc5b6?pid=COMGSB23REP7G84N&lid=LSTCOMGSB23REP7G84N5VMCYP&marketplace=FLIPKART&q=laptops&store=6bo%2Fb5g&srno=s_1_10&otracker=search&otracker1=search&fm=organic&iid=3b9537eb-d9db-4de2-aee9-3dd80e49e7b9.COMGSB23REP7G84N.SEARCH&ppt=None&ppn=None&ssid=5r7voycxcw0000001700976599805&qH=c06ea84a1e3dc3c6\n",
      "Link 11\n",
      "https://www.flipkart.com/asus-vivobook-15-core-i3-11th-gen-1115g4-8-gb-256-gb-ssd-windows-11-home-x1500ea-ej311w-thin-light-laptop/p/itmcc87b88b4d7bf?pid=COMGS7M36HZBHH5R&lid=LSTCOMGS7M36HZBHH5RNHNWTN&marketplace=FLIPKART&q=laptops&store=6bo%2Fb5g&srno=s_1_11&otracker=search&otracker1=search&fm=organic&iid=en_ITMi-OQKDMC1N79aCeZExAvzCltkM5ZrybdOt8Hqg7lY8CAGgDpfyhaTydGaPz4nituIJQp-3NJj4EtkeU5KqA%3D%3D&ppt=None&ppn=None&ssid=5r7voycxcw0000001700976599805&qH=c06ea84a1e3dc3c6\n",
      "Link 12\n",
      "https://www.flipkart.com/msi-modern-14-core-i3-11th-gen-1115g4-8-gb-512-gb-ssd-windows-11-home-c11m-031in-thin-light-laptop/p/itm6ca276c474059?pid=COMGMV6V2AGHSSDM&lid=LSTCOMGMV6V2AGHSSDMORMXTI&marketplace=FLIPKART&q=laptops&store=6bo%2Fb5g&srno=s_1_12&otracker=search&otracker1=search&fm=organic&iid=en_ITMi-OQKDMC1N79aCeZExAvzCltkM5ZrybdOt8Hqg7mEQy8TdbamxTXQNuAT2YP3gWnHFjUW1cphSNZpqCmN7w%3D%3D&ppt=None&ppn=None&ssid=5r7voycxcw0000001700976599805&qH=c06ea84a1e3dc3c6\n",
      "Link 13\n",
      "https://www.flipkart.com/dell-core-i3-11th-gen-1115g4-8-gb-256-gb-ssd-32-emmc-storage-ubuntu-latitude-3420-business-laptop/p/itmc95569d41d782?pid=COMGZBHZTTXGGXXZ&lid=LSTCOMGZBHZTTXGGXXZWJPTI6&marketplace=FLIPKART&q=laptops&store=6bo%2Fb5g&srno=s_1_13&otracker=search&otracker1=search&fm=organic&iid=3b9537eb-d9db-4de2-aee9-3dd80e49e7b9.COMGZBHZTTXGGXXZ.SEARCH&ppt=None&ppn=None&ssid=5r7voycxcw0000001700976599805&qH=c06ea84a1e3dc3c6\n",
      "Link 14\n",
      "https://www.flipkart.com/dell-core-i3-12th-gen-1215u-8-gb-512-gb-ssd-windows-11-home-new-inspiron-15-laptop-thin-light/p/itm06ea674a3bd5b?pid=COMGJ75HCCFJS8AE&lid=LSTCOMGJ75HCCFJS8AE0PBADB&marketplace=FLIPKART&q=laptops&store=6bo%2Fb5g&srno=s_1_14&otracker=search&otracker1=search&fm=organic&iid=3b9537eb-d9db-4de2-aee9-3dd80e49e7b9.COMGJ75HCCFJS8AE.SEARCH&ppt=None&ppn=None&ssid=5r7voycxcw0000001700976599805&qH=c06ea84a1e3dc3c6\n",
      "Link 15\n",
      "https://www.flipkart.com/msi-modern-14-ryzen-5-hexa-core-7530u-8-gb-512-gb-ssd-windows-11-home-c7m-063in-thin-light-laptop/p/itma9abd86c9c099?pid=COMGMV6VHGPAGP55&lid=LSTCOMGMV6VHGPAGP553JIQX6&marketplace=FLIPKART&q=laptops&store=6bo%2Fb5g&srno=s_1_15&otracker=search&otracker1=search&fm=organic&iid=3b9537eb-d9db-4de2-aee9-3dd80e49e7b9.COMGMV6VHGPAGP55.SEARCH&ppt=None&ppn=None&ssid=5r7voycxcw0000001700976599805&qH=c06ea84a1e3dc3c6\n",
      "Link 16\n",
      "https://www.flipkart.com/hp-ryzen-3-quad-core-5300u-8-gb-512-gb-ssd-windows-11-home-fq1089au-thin-light-laptop/p/itmb13c397771346?pid=COMGAY9Y7WXZYFDA&lid=LSTCOMGAY9Y7WXZYFDALA89IW&marketplace=FLIPKART&q=laptops&store=6bo%2Fb5g&srno=s_1_16&otracker=search&otracker1=search&fm=organic&iid=3b9537eb-d9db-4de2-aee9-3dd80e49e7b9.COMGAY9Y7WXZYFDA.SEARCH&ppt=None&ppn=None&ssid=5r7voycxcw0000001700976599805&qH=c06ea84a1e3dc3c6\n",
      "Link 17\n",
      "https://www.flipkart.com/msi-modern-14-core-i5-11th-gen-1155g7-8-gb-512-gb-ssd-windows-11-home-c11m-030in-thin-light-laptop/p/itmb73991d2194a6?pid=COMGMV6VGGS4RHD8&lid=LSTCOMGMV6VGGS4RHD83FGVU7&marketplace=FLIPKART&q=laptops&store=6bo%2Fb5g&srno=s_1_17&otracker=search&otracker1=search&fm=organic&iid=en_ITMi-OQKDMC1N79aCeZExAvzCltkM5ZrybdOt8Hqg7m1dj18YLfWWVfXYQ6tkK-OQUQmRiDQ6YFDsTMsXGxbMg%3D%3D&ppt=None&ppn=None&ssid=5r7voycxcw0000001700976599805&qH=c06ea84a1e3dc3c6\n",
      "Link 18\n",
      "https://www.flipkart.com/asus-zenbook-14x-oled-ryzen-5-hexa-core-5600hs-16-gb-512-gb-ssd-windows-11-home-um5401qa-km541ws-thin-light-laptop/p/itm05033c9b1d455?pid=COMGZKHQHERZG2RP&lid=LSTCOMGZKHQHERZG2RPU37D6Q&marketplace=FLIPKART&q=laptops&store=6bo%2Fb5g&srno=s_1_18&otracker=search&otracker1=search&fm=organic&iid=en_ITMi-OQKDMC1N79aCeZExAvzCltkM5ZrybdOt8Hqg7nCp7klO38ySwvnHEHRJxMosKcWA10Pvp-nyTmLCgtOlg%3D%3D&ppt=None&ppn=None&ssid=5r7voycxcw0000001700976599805&qH=c06ea84a1e3dc3c6\n",
      "Link 19\n",
      "https://www.flipkart.com/hp-2023-laptop-backlit-keyboard-core-i5-11th-gen-16-gb-512-gb-ssd-windows-11-home-15s-fq2510tu-thin-light/p/itm7d4577134e5bc?pid=COMGUM8UKJBX8YKM&lid=LSTCOMGUM8UKJBX8YKMCV1YH0&marketplace=FLIPKART&q=laptops&store=6bo%2Fb5g&srno=s_1_19&otracker=search&otracker1=search&fm=organic&iid=3b9537eb-d9db-4de2-aee9-3dd80e49e7b9.COMGUM8UKJBX8YKM.SEARCH&ppt=None&ppn=None&ssid=5r7voycxcw0000001700976599805&qH=c06ea84a1e3dc3c6\n",
      "Link 20\n",
      "https://www.flipkart.com/asus-vivobook-15-core-i5-12th-gen-1235u-16-gb-512-gb-ssd-windows-11-home-x1502za-ej545ws-thin-light-laptop/p/itm2b6308ea1ee21?pid=COMGR5QEDDTGGUBX&lid=LSTCOMGR5QEDDTGGUBXOVXZAO&marketplace=FLIPKART&q=laptops&store=6bo%2Fb5g&srno=s_1_20&otracker=search&otracker1=search&fm=organic&iid=3b9537eb-d9db-4de2-aee9-3dd80e49e7b9.COMGR5QEDDTGGUBX.SEARCH&ppt=None&ppn=None&ssid=5r7voycxcw0000001700976599805&qH=c06ea84a1e3dc3c6\n",
      "Link 21\n",
      "https://www.flipkart.com/hp-360-intel-celeron-dual-core-n4020-4-gb-64-gb-emmc-storage-chrome-os-14a-ca0506tu-chromebook/p/itmb2e03ff1f9366?pid=COMGBHKFAYHEMVAT&lid=LSTCOMGBHKFAYHEMVATTMWBVX&marketplace=FLIPKART&q=laptops&store=6bo%2Fb5g&srno=s_1_21&otracker=search&otracker1=search&fm=organic&iid=en_ITMi-OQKDMC1N79aCeZExAvzCltkM5ZrybdOt8Hqg7kajB_y7Zr9PqoMjewEnsQZR_2kCCR0jszHc5BNWQHNgw%3D%3D&ppt=None&ppn=None&ssid=5r7voycxcw0000001700976599805&qH=c06ea84a1e3dc3c6\n",
      "Link 22\n",
      "https://www.flipkart.com/lenovo-ideapad-slim-3-intel-core-i5-11th-gen-1135g7-16-gb-512-gb-ssd-windows-11-home-15itl6-thin-light-laptop/p/itm36fec4d6ab322?pid=COMGKC6Y2KA8HMFT&lid=LSTCOMGKC6Y2KA8HMFTCCRJQM&marketplace=FLIPKART&q=laptops&store=6bo%2Fb5g&srno=s_1_22&otracker=search&otracker1=search&fm=organic&iid=en_ITMi-OQKDMC1N79aCeZExAvzCltkM5ZrybdOt8Hqg7lmNCvwMhSZV0OUWxu68k7vmNAOM5B1aRufl4IkjtTk0g%3D%3D&ppt=None&ppn=None&ssid=5r7voycxcw0000001700976599805&qH=c06ea84a1e3dc3c6\n",
      "Link 23\n",
      "https://www.flipkart.com/infinix-inbook-y1-plus-intel-core-i3-10th-gen-1005g1-8-gb-512-gb-ssd-windows-11-home-xl28-thin-light-laptop/p/itma8f08afb687ea?pid=COMGMM3HXJC3TYYH&lid=LSTCOMGMM3HXJC3TYYHA4PPBX&marketplace=FLIPKART&q=laptops&store=6bo%2Fb5g&srno=s_1_23&otracker=search&otracker1=search&fm=organic&iid=3b9537eb-d9db-4de2-aee9-3dd80e49e7b9.COMGMM3HXJC3TYYH.SEARCH&ppt=None&ppn=None&ssid=5r7voycxcw0000001700976599805&qH=c06ea84a1e3dc3c6\n",
      "Link 24\n",
      "https://www.flipkart.com/lenovo-ideapad-slim-3-intel-core-i3-11th-gen-1115g4-8-gb-512-gb-ssd-windows-11-home-15itl6-ub-thin-light-laptop/p/itmf7ba442601f89?pid=COMG9VHHG6Q3RRJX&lid=LSTCOMG9VHHG6Q3RRJXQHPK6Q&marketplace=FLIPKART&q=laptops&store=6bo%2Fb5g&srno=s_1_24&otracker=search&otracker1=search&fm=organic&iid=3b9537eb-d9db-4de2-aee9-3dd80e49e7b9.COMG9VHHG6Q3RRJX.SEARCH&ppt=None&ppn=None&ssid=5r7voycxcw0000001700976599805&qH=c06ea84a1e3dc3c6\n"
     ]
    }
   ],
   "source": [
    "#To scrape product links from product listing pages\n",
    "product_link=[]\n",
    "no=1\n",
    "for i in links:\n",
    "    print('Link',no)\n",
    "    product_link.append('https://www.flipkart.com' + i.get('href'))\n",
    "    print('https://www.flipkart.com' + i.get('href'))\n",
    "    no=no+1    "
   ]
  },
  {
   "cell_type": "markdown",
   "metadata": {},
   "source": [
    "  <font color='brown'> A single listing page has 24 laptops listed. The above output is the product link for all the 24 laptops listed in first search page.</font>"
   ]
  },
  {
   "cell_type": "code",
   "execution_count": 8,
   "metadata": {
    "id": "e3trWbF8P1dn"
   },
   "outputs": [
    {
     "name": "stdout",
     "output_type": "stream",
     "text": [
      "Product- HP Celeron Dual Core N4500 - (4 GB/128 GB EMMC Storage/Chrome OS) 15a- na0012TU Chromebook  (15.6 Inch, Forest Teal, 1.07 Kg)\n",
      "Price- ₹27,490\n",
      "Model- 15a- na0012TU\n",
      "Type- Processing & Multitasking\n",
      "Rating- 3.9\n",
      "Review- Nice product suitable for any type of working and not too short works fastREAD MORE\n",
      "=======================================================================================\n",
      "Product- HP 255 G9 840T7PA Athlon Dual Core 3050U - (4 GB/256 GB SSD/DOS) 255 G8 Thin and Light Laptop  (15.6 Inch, Jet Black, 2.5 Kg)\n",
      "Price- ₹19,860\n",
      "Model- 255 G8\n",
      "Type- Thin and Light Laptop\n",
      "Rating- 3.9\n",
      "Review- Overall average product for normally daily working.READ MORE\n",
      "=======================================================================================\n",
      "Product- DELL Inspiron Core i3 11th Gen 1115G4 - (8 GB/512 GB SSD/Windows 11 Home) INSPIRON 3511 Notebook  (15.6 Inch, Platinum Silver, 1.8 Kg, With MS Office)\n",
      "Price- ₹38,490\n",
      "Model- INSPIRON 3511\n",
      "Type- Notebook\n",
      "Rating- 3.7\n",
      "Product- HP intel Celeron Dual Core N4500 - (4 GB/64 GB EMMC Storage/Chrome OS) 14a- na1004TU Chromebook  (14 Inch, Mineral Silver, 1.46 kg)\n",
      "Price- ₹25,990\n",
      "Model- 14a- na1004TU\n",
      "Type- Chromebook\n",
      "Rating- 3.7\n",
      "Review- I like it Hp croombook and very fast and very good performance.🔥and battery backup 6.to7 hours.READ MORE\n",
      "=======================================================================================\n",
      "Product- HP 2023 Ryzen 3 Dual Core 3250U - (8 GB/512 GB SSD/Windows 11 Home) 15s- eq1580AU Thin and Light Laptop  (15.6 Inch, Natural Silver, 1.69 Kg, With MS Office)\n",
      "Price- ₹33,490\n",
      "Model- 15s- eq1580AU\n",
      "Type- Thin and Light Laptop\n",
      "Rating- 4.2\n",
      "Review- This is my first laptop gifted by my father so its a special one❤️READ MORE\n",
      "=======================================================================================\n",
      "Product- Lenovo IdeaPad 1 Athlon Dual Core 7120U - (8 GB/512 GB SSD/Windows 11 Home) 15AMN7 Thin and Light Laptop  (15.6 inch, Cloud Grey, 1.58 Kg, With MS Office)\n",
      "Price- ₹28,640\n",
      "Model- 15AMN7\n",
      "Type- Thin and Light Laptop\n",
      "Rating- 4.2\n",
      "Review- Please go blindly and without thinking. This is the perfect laptop and thin laptop. I love this product ❤️❤️❤️❤️❤️❤️😎😎😎😎😎👌👌👌👌👌.READ MORE\n",
      "=======================================================================================\n",
      "Product- ASUS Vivobook 15 Core i3 11th Gen 1115G4 - (8 GB/256 GB SSD/Windows 11 Home) X1500EA-EJ311W Thin and Light Laptop  (15.6 Inch, Transparent Silver, 1.80 Kg)\n",
      "Price- ₹31,990\n",
      "Model- X1500EA-EJ311W\n",
      "Type- Thin and Light Laptop\n",
      "Rating- 4.3\n",
      "Review- The perfect one piece of modern timesEverything that's required is in it already 👍😀READ MORE\n",
      "=======================================================================================\n",
      "Product- HP Ryzen 3 Quad Core 5300U - (8 GB/512 GB SSD/Windows 11 Home) fq1089au Thin and Light Laptop  (14 Inch, Natural Silver, 1.46 Kg kg, With MS Office)\n",
      "Price- ₹35,899\n",
      "Model- fq1089au\n",
      "Type- Processing & Multitasking\n",
      "Rating- 4.3\n",
      "Review- Its around 4 months I am using this laptop , It is working very smooth. I have build amy first website through this laptop. My devlopment experience is too good . Don't thing too much . Just buy it and start your learning. I thing most important thing is our time. Don't waste time on  overthinking'. Thanks and sorry for my bad english. P.S : I am a 1st year engineering student from West Bengal :)READ MORE\n",
      "=======================================================================================\n",
      "Product- MSI Modern 14 Core i5 11th Gen 1155G7 - (8 GB/512 GB SSD/Windows 11 Home) Modern 14 C11M-030IN Thin and Light Laptop  (14 Inch, Classic Black, 1.4 Kg)\n",
      "Price- ₹42,990\n",
      "Model- Modern 14 C11M-030IN\n",
      "Type- Thin and Light Laptop\n",
      "Rating- 4.1\n",
      "Review- Laptop performance is on another level at this range (38k)Battery is not good enough (3-4hr)Heating problemDisplay is fabulous can't match at same range overall experience I'm satisfiedREAD MORE\n",
      "=======================================================================================\n",
      "Product- ASUS Zenbook 14X OLED Ryzen 5 Hexa Core 5600HS - (16 GB/512 GB SSD/Windows 11 Home) UM5401QA-KM541WS Thin and Light Laptop  (14 Inch, Jade Black, 1.40 kg, With MS Office)\n",
      "Price- ₹57,990\n",
      "Model- UM5401QA-KM541WS\n",
      "Type- Thin and Light Laptop\n",
      "Rating- 4.4\n",
      "Review- Zen book is a premium series of asus, this laptop provides an immersive experience and the audio is also pretty good, but tune in has to be done! Above average performance (not for gaming)Built quality is top notchThe Trump Card of the laptop is the display, you will get a chance to see the same display that is available in 1l and above TV's So this is a great laptop for entertainment and education purposes.READ MORE\n",
      "=======================================================================================\n",
      "Product- HP (2023) Laptop with Backlit Keyboard Core i5 11th Gen - (16 GB/512 GB SSD/Windows 11 Home) 15s-fq2510tu Thin and Light Laptop  (15.6 inch, Natural Silver, With MS Office)\n",
      "Price- ₹49,695\n",
      "Model- 15s-fq2510tu\n",
      "Type- Thin and Light Laptop\n",
      "Rating- 4.9\n",
      "Product- ASUS Vivobook 15 Core i5 12th Gen 1235U - (16 GB/512 GB SSD/Windows 11 Home) X1502ZA-EJ545WS Thin and Light Laptop  (15.6 Inch, Icelight Silver, 1.70 Kg, With MS Office)\n",
      "Price- ₹50,990\n",
      "Model- X1502ZA-EJ545WS\n",
      "Type- Thin and Light Laptop\n",
      "Rating- 4.1\n",
      "Review- Value for moneyREAD MORE\n",
      "=======================================================================================\n",
      "Product- HP 360 Intel Celeron Dual Core N4020 - (4 GB/64 GB EMMC Storage/Chrome OS) 14a-ca0506TU Chromebook  (14 Inch, Mineral Silver, 1.49 Kg)\n",
      "Price- ₹27,490\n",
      "Model- 14a-ca0506TU\n",
      "Type- Chromebook\n",
      "Rating- 3.9\n",
      "Review- Good 👍READ MORE\n",
      "=======================================================================================\n",
      "Product- Lenovo IdeaPad Slim 3 Intel Core i5 11th Gen 1135G7 - (16 GB/512 GB SSD/Windows 11 Home) 15ITL6 Thin and Light Laptop  (15.6 inch, Arctic Grey, 1.65 Kg, With MS Office)\n",
      "Price- ₹43,990\n",
      "Model- 15ITL6\n",
      "Type- Thin and Light Laptop\n",
      "Rating- 4.2\n",
      "Review- Good product . Just slight viewing angles can be better.  Need to register the warranty by uploading invoice from the purchase datesREAD MORE\n",
      "=======================================================================================\n",
      "Product- Infinix INBook Y1 Plus Intel Core i3 10th Gen 1005G1 - (8 GB/512 GB SSD/Windows 11 Home) XL28 Thin and Light Laptop  (39 cm, Blue, 1.76 kg)\n",
      "Price- ₹25,990\n",
      "Model- XL28\n",
      "Type- Thin and Light Laptop\n",
      "Rating- 4.2\n",
      "Review- They offer free 6 months Microsoft 365 in the flipkart website but its almost 25 days i have not received product key for activating it. When i contacted flipkart they saying there is no such offer😂, cheaters.About laptop performance is ok. Battery backup is poor, and keyboard not at all good most of the key make some cracking sound while pressing especially both sides. To make people believe there are many purchases, flipkart added other/old laptop into same catalogue so when someone chec...READ MORE\n",
      "=======================================================================================\n",
      "Product- Lenovo IdeaPad Slim 3 Intel Core i3 11th Gen 1115G4 - (8 GB/512 GB SSD/Windows 11 Home) Ideapad 3 15ITL6 Ub Thin and Light Laptop  (15.6 Inch, Arctic Grey, 1.7 Kg, With MS Office)\n",
      "Price- ₹34,990\n",
      "Model- Ideapad 3 15ITL6 Ub\n",
      "Type- Thin and Light Laptop\n",
      "Rating- 4.2\n",
      "Review- Nice productREAD MORE\n",
      "=======================================================================================\n"
     ]
    }
   ],
   "source": [
    "for i in product_link:\n",
    "    hp_webpage = requests.get(i)\n",
    "    n_soup = BeautifulSoup(hp_webpage.content, 'html.parser')\n",
    "    try:\n",
    "        product_name=n_soup.find(\"span\", attrs={'class':'B_NuCI'}).text\n",
    "        print('Product-',product_name)\n",
    "        product_price=n_soup.find(\"div\", attrs={'class':'_30jeq3 _16Jk6d'}).text\n",
    "        print('Price-',product_price)\n",
    "        product_model=n_soup.find_all(\"li\", attrs={'class':\"_21lJbe\"})[1].text\n",
    "        print('Model-',product_model)\n",
    "        product_type=n_soup.find_all(\"li\", attrs={'class':\"_21lJbe\"})[6].text\n",
    "        print('Type-',product_type)\n",
    "        product_rating=n_soup.find(\"div\", attrs={'class':'_3LWZlK'}).text\n",
    "        print('Rating-',product_rating)\n",
    "        product_review=n_soup.find(\"div\", attrs={'class':'t-ZTKy'}).text\n",
    "        print('Review-',product_review)\n",
    "        print('=======================================================================================')\n",
    "    except AttributeError as e:\n",
    "        continue    "
   ]
  },
  {
   "cell_type": "markdown",
   "metadata": {},
   "source": [
    "<font color='brown'> Product information like  Product title, Price, Model, Type, Star rating and comments  are scraped from individual product pages for all the 24 products listed in the first product web page.</font>"
   ]
  },
  {
   "cell_type": "code",
   "execution_count": 9,
   "metadata": {},
   "outputs": [
    {
     "name": "stdout",
     "output_type": "stream",
     "text": [
      "https://www.flipkart.com/search?q=laptops&otracker=search&otracker1=search&marketplace=FLIPKART&as-show=on&as=off&page=1\n",
      "https://www.flipkart.com/search?q=laptops&otracker=search&otracker1=search&marketplace=FLIPKART&as-show=on&as=off&page=2\n",
      "https://www.flipkart.com/search?q=laptops&otracker=search&otracker1=search&marketplace=FLIPKART&as-show=on&as=off&page=3\n",
      "https://www.flipkart.com/search?q=laptops&otracker=search&otracker1=search&marketplace=FLIPKART&as-show=on&as=off&page=4\n",
      "https://www.flipkart.com/search?q=laptops&otracker=search&otracker1=search&marketplace=FLIPKART&as-show=on&as=off&page=5\n",
      "https://www.flipkart.com/search?q=laptops&otracker=search&otracker1=search&marketplace=FLIPKART&as-show=on&as=off&page=6\n",
      "https://www.flipkart.com/search?q=laptops&otracker=search&otracker1=search&marketplace=FLIPKART&as-show=on&as=off&page=7\n",
      "https://www.flipkart.com/search?q=laptops&otracker=search&otracker1=search&marketplace=FLIPKART&as-show=on&as=off&page=8\n",
      "https://www.flipkart.com/search?q=laptops&otracker=search&otracker1=search&marketplace=FLIPKART&as-show=on&as=off&page=9\n",
      "https://www.flipkart.com/search?q=laptops&otracker=search&otracker1=search&marketplace=FLIPKART&as-show=on&as=off&page=10\n",
      "https://www.flipkart.com/search?q=laptops&otracker=search&otracker1=search&marketplace=FLIPKART&as-show=on&as=off&page=11\n",
      "https://www.flipkart.com/search?q=laptops&otracker=search&otracker1=search&marketplace=FLIPKART&as-show=on&as=off&page=12\n",
      "https://www.flipkart.com/search?q=laptops&otracker=search&otracker1=search&marketplace=FLIPKART&as-show=on&as=off&page=13\n",
      "https://www.flipkart.com/search?q=laptops&otracker=search&otracker1=search&marketplace=FLIPKART&as-show=on&as=off&page=14\n",
      "https://www.flipkart.com/search?q=laptops&otracker=search&otracker1=search&marketplace=FLIPKART&as-show=on&as=off&page=15\n",
      "https://www.flipkart.com/search?q=laptops&otracker=search&otracker1=search&marketplace=FLIPKART&as-show=on&as=off&page=16\n",
      "https://www.flipkart.com/search?q=laptops&otracker=search&otracker1=search&marketplace=FLIPKART&as-show=on&as=off&page=17\n",
      "https://www.flipkart.com/search?q=laptops&otracker=search&otracker1=search&marketplace=FLIPKART&as-show=on&as=off&page=18\n",
      "https://www.flipkart.com/search?q=laptops&otracker=search&otracker1=search&marketplace=FLIPKART&as-show=on&as=off&page=19\n",
      "https://www.flipkart.com/search?q=laptops&otracker=search&otracker1=search&marketplace=FLIPKART&as-show=on&as=off&page=20\n",
      "https://www.flipkart.com/search?q=laptops&otracker=search&otracker1=search&marketplace=FLIPKART&as-show=on&as=off&page=21\n",
      "https://www.flipkart.com/search?q=laptops&otracker=search&otracker1=search&marketplace=FLIPKART&as-show=on&as=off&page=22\n",
      "https://www.flipkart.com/search?q=laptops&otracker=search&otracker1=search&marketplace=FLIPKART&as-show=on&as=off&page=23\n",
      "https://www.flipkart.com/search?q=laptops&otracker=search&otracker1=search&marketplace=FLIPKART&as-show=on&as=off&page=24\n",
      "https://www.flipkart.com/search?q=laptops&otracker=search&otracker1=search&marketplace=FLIPKART&as-show=on&as=off&page=25\n",
      "https://www.flipkart.com/search?q=laptops&otracker=search&otracker1=search&marketplace=FLIPKART&as-show=on&as=off&page=26\n",
      "https://www.flipkart.com/search?q=laptops&otracker=search&otracker1=search&marketplace=FLIPKART&as-show=on&as=off&page=27\n",
      "https://www.flipkart.com/search?q=laptops&otracker=search&otracker1=search&marketplace=FLIPKART&as-show=on&as=off&page=28\n",
      "https://www.flipkart.com/search?q=laptops&otracker=search&otracker1=search&marketplace=FLIPKART&as-show=on&as=off&page=29\n",
      "https://www.flipkart.com/search?q=laptops&otracker=search&otracker1=search&marketplace=FLIPKART&as-show=on&as=off&page=30\n",
      "https://www.flipkart.com/search?q=laptops&otracker=search&otracker1=search&marketplace=FLIPKART&as-show=on&as=off&page=31\n",
      "https://www.flipkart.com/search?q=laptops&otracker=search&otracker1=search&marketplace=FLIPKART&as-show=on&as=off&page=32\n",
      "https://www.flipkart.com/search?q=laptops&otracker=search&otracker1=search&marketplace=FLIPKART&as-show=on&as=off&page=33\n",
      "https://www.flipkart.com/search?q=laptops&otracker=search&otracker1=search&marketplace=FLIPKART&as-show=on&as=off&page=34\n",
      "https://www.flipkart.com/search?q=laptops&otracker=search&otracker1=search&marketplace=FLIPKART&as-show=on&as=off&page=35\n",
      "https://www.flipkart.com/search?q=laptops&otracker=search&otracker1=search&marketplace=FLIPKART&as-show=on&as=off&page=36\n",
      "https://www.flipkart.com/search?q=laptops&otracker=search&otracker1=search&marketplace=FLIPKART&as-show=on&as=off&page=37\n",
      "https://www.flipkart.com/search?q=laptops&otracker=search&otracker1=search&marketplace=FLIPKART&as-show=on&as=off&page=38\n",
      "https://www.flipkart.com/search?q=laptops&otracker=search&otracker1=search&marketplace=FLIPKART&as-show=on&as=off&page=39\n",
      "https://www.flipkart.com/search?q=laptops&otracker=search&otracker1=search&marketplace=FLIPKART&as-show=on&as=off&page=40\n",
      "https://www.flipkart.com/search?q=laptops&otracker=search&otracker1=search&marketplace=FLIPKART&as-show=on&as=off&page=41\n",
      "https://www.flipkart.com/search?q=laptops&otracker=search&otracker1=search&marketplace=FLIPKART&as-show=on&as=off&page=42\n",
      "https://www.flipkart.com/search?q=laptops&otracker=search&otracker1=search&marketplace=FLIPKART&as-show=on&as=off&page=43\n",
      "https://www.flipkart.com/search?q=laptops&otracker=search&otracker1=search&marketplace=FLIPKART&as-show=on&as=off&page=44\n"
     ]
    }
   ],
   "source": [
    "for  i in range(1,45):\n",
    "    url=\"https://www.flipkart.com/search?q=laptops&otracker=search&otracker1=search&marketplace=FLIPKART&as-show=on&as=off&page=\"+str(i)\n",
    "    print(url)"
   ]
  },
  {
   "cell_type": "markdown",
   "metadata": {},
   "source": [
    "  <font color='brown'> Lets get the links of all other product listing pages to scrape product details from each page.</font>"
   ]
  },
  {
   "cell_type": "markdown",
   "metadata": {
    "id": "crF5hEf1MD6f"
   },
   "source": [
    "#### Constructing csv file which includes information from above links"
   ]
  },
  {
   "cell_type": "code",
   "execution_count": 252,
   "metadata": {},
   "outputs": [],
   "source": [
    "Product_title=[]\n",
    "Price=[]\n",
    "Model=[]\n",
    "Type=[]\n",
    "Star_rating=[]\n",
    "Comments=[]\n",
    "\n",
    "for page in range(1,40):\n",
    "    url=\"https://www.flipkart.com/search?q=laptops&otracker=search&otracker1=search&marketplace=FLIPKART&as-show=on&as=off&page=\"+str(page)\n",
    "    webpage = requests.get(url)\n",
    "    soup = BeautifulSoup(webpage.content, 'html.parser')\n",
    "    links=soup.find_all(\"a\", attrs={'class':'_1fQZEK'})\n",
    "    product_link=[]\n",
    "    num=0\n",
    "    for i in links:\n",
    "        product_link.append('https://www.flipkart.com' + i.get('href'))\n",
    "    for product in product_link:\n",
    "        webpage = requests.get(product)\n",
    "        n_soup = BeautifulSoup(webpage.content, 'html.parser')\n",
    "        try:\n",
    "            product_name = n_soup.find(\"span\", attrs={'class': 'B_NuCI'}).text\n",
    "            product_price=n_soup.find(\"div\", attrs={'class':'_30jeq3 _16Jk6d'}).text\n",
    "            product_model=n_soup.find_all(\"li\", attrs={'class':\"_21lJbe\"})[1].text\n",
    "            product_type=n_soup.find_all(\"li\", attrs={'class':\"_21lJbe\"})[6].text\n",
    "            product_rating=n_soup.find(\"div\", attrs={'class':'_3LWZlK'}).text\n",
    "            product_review=n_soup.find(\"div\", attrs={'class':'t-ZTKy'}).text\n",
    "            Product_title.append(product_name)\n",
    "            Price.append(product_price)\n",
    "            Model.append(product_model)\n",
    "            Type.append(product_type)\n",
    "            Star_rating.append(product_rating)\n",
    "            Comments.append(product_review)\n",
    "            num=num+1\n",
    "        except AttributeError as e:\n",
    "            continue       "
   ]
  },
  {
   "cell_type": "markdown",
   "metadata": {},
   "source": [
    "  <font color='brown'> Product information like  Product title, Price, Model, Type, Star rating and comments  are scraped from individual product pages for all the products and details are appended to 6 lists.</font>"
   ]
  },
  {
   "cell_type": "code",
   "execution_count": 255,
   "metadata": {},
   "outputs": [
    {
     "data": {
      "text/html": [
       "<div>\n",
       "<style scoped>\n",
       "    .dataframe tbody tr th:only-of-type {\n",
       "        vertical-align: middle;\n",
       "    }\n",
       "\n",
       "    .dataframe tbody tr th {\n",
       "        vertical-align: top;\n",
       "    }\n",
       "\n",
       "    .dataframe thead th {\n",
       "        text-align: right;\n",
       "    }\n",
       "</style>\n",
       "<table border=\"1\" class=\"dataframe\">\n",
       "  <thead>\n",
       "    <tr style=\"text-align: right;\">\n",
       "      <th></th>\n",
       "      <th>Product_title</th>\n",
       "      <th>Price</th>\n",
       "      <th>Model</th>\n",
       "      <th>Type</th>\n",
       "      <th>Star_rating</th>\n",
       "      <th>Comments</th>\n",
       "    </tr>\n",
       "  </thead>\n",
       "  <tbody>\n",
       "    <tr>\n",
       "      <th>0</th>\n",
       "      <td>Infinix INBook Y1 Plus Intel Core i3 10th Gen ...</td>\n",
       "      <td>₹24,990</td>\n",
       "      <td>XL28</td>\n",
       "      <td>Grey</td>\n",
       "      <td>4.2</td>\n",
       "      <td>They offer free 6 months Microsoft 365 in the ...</td>\n",
       "    </tr>\n",
       "    <tr>\n",
       "      <th>1</th>\n",
       "      <td>HP Celeron Dual Core N4500 - (4 GB/128 GB EMMC...</td>\n",
       "      <td>₹27,490</td>\n",
       "      <td>15a- na0012TU</td>\n",
       "      <td>Chromebook</td>\n",
       "      <td>3.9</td>\n",
       "      <td>Nice product suitable for any type of working ...</td>\n",
       "    </tr>\n",
       "    <tr>\n",
       "      <th>2</th>\n",
       "      <td>ASUS Vivobook 15 Core i5 11th Gen 1135G7 - (8 ...</td>\n",
       "      <td>₹38,990</td>\n",
       "      <td>X515EA-EJ522WS</td>\n",
       "      <td>Transparent Silver</td>\n",
       "      <td>4.3</td>\n",
       "      <td>BEST LEPTOP BEST PRICE BEST PERFORMANCEREAD MORE</td>\n",
       "    </tr>\n",
       "    <tr>\n",
       "      <th>3</th>\n",
       "      <td>HP 2023 Athlon Dual Core 3050U - (8 GB/512 GB ...</td>\n",
       "      <td>₹29,990</td>\n",
       "      <td>15s-ey1509AU</td>\n",
       "      <td>Natural Silver</td>\n",
       "      <td>4.1</td>\n",
       "      <td>Price wise decent deal with nice battery backu...</td>\n",
       "    </tr>\n",
       "    <tr>\n",
       "      <th>4</th>\n",
       "      <td>Acer One Core i3 11th Gen 1115G4 - (8 GB/512 G...</td>\n",
       "      <td>₹26,990</td>\n",
       "      <td>AO 14 Z 8-415</td>\n",
       "      <td>Silver</td>\n",
       "      <td>4.2</td>\n",
       "      <td>pros:  - build quality is good considering pri...</td>\n",
       "    </tr>\n",
       "    <tr>\n",
       "      <th>...</th>\n",
       "      <td>...</td>\n",
       "      <td>...</td>\n",
       "      <td>...</td>\n",
       "      <td>...</td>\n",
       "      <td>...</td>\n",
       "      <td>...</td>\n",
       "    </tr>\n",
       "    <tr>\n",
       "      <th>680</th>\n",
       "      <td>ASUS Vivobook Go 15 (2023) Ryzen 5 Quad Core 7...</td>\n",
       "      <td>₹39,990</td>\n",
       "      <td>E1504FA-NJ522WS</td>\n",
       "      <td>Mixed Black</td>\n",
       "      <td>4.2</td>\n",
       "      <td>Product is 👍 I will review after using 1 month...</td>\n",
       "    </tr>\n",
       "    <tr>\n",
       "      <th>681</th>\n",
       "      <td>Acer Aspire 7 Core i5 12th Gen 12450H - (16 GB...</td>\n",
       "      <td>₹54,990</td>\n",
       "      <td>A715-76G</td>\n",
       "      <td>Charcoal Black</td>\n",
       "      <td>4.2</td>\n",
       "      <td>Cheapest RTX laptop with 16gigs of RAM right n...</td>\n",
       "    </tr>\n",
       "    <tr>\n",
       "      <th>682</th>\n",
       "      <td>Infinix Y1 Plus Neo Intel Celeron Quad Core 11...</td>\n",
       "      <td>₹23,990</td>\n",
       "      <td>XL30</td>\n",
       "      <td>Blue</td>\n",
       "      <td>4</td>\n",
       "      <td>Good product... great priceee.... Laptop look ...</td>\n",
       "    </tr>\n",
       "    <tr>\n",
       "      <th>683</th>\n",
       "      <td>Infinix X3 Slim Intel Core i7 12th Gen 1255U -...</td>\n",
       "      <td>₹46,990</td>\n",
       "      <td>XL422</td>\n",
       "      <td>Grey</td>\n",
       "      <td>4.1</td>\n",
       "      <td>Decent product at this price range.READ MORE</td>\n",
       "    </tr>\n",
       "    <tr>\n",
       "      <th>684</th>\n",
       "      <td>ASUS Vivobook 15 Core i3 11th Gen 1115G4 - (8 ...</td>\n",
       "      <td>₹35,990</td>\n",
       "      <td>X515EA-EJ322WS</td>\n",
       "      <td>Transparent Silver</td>\n",
       "      <td>4.4</td>\n",
       "      <td>The product is worth money, But the shipping i...</td>\n",
       "    </tr>\n",
       "  </tbody>\n",
       "</table>\n",
       "<p>685 rows × 6 columns</p>\n",
       "</div>"
      ],
      "text/plain": [
       "                                         Product_title    Price  \\\n",
       "0    Infinix INBook Y1 Plus Intel Core i3 10th Gen ...  ₹24,990   \n",
       "1    HP Celeron Dual Core N4500 - (4 GB/128 GB EMMC...  ₹27,490   \n",
       "2    ASUS Vivobook 15 Core i5 11th Gen 1135G7 - (8 ...  ₹38,990   \n",
       "3    HP 2023 Athlon Dual Core 3050U - (8 GB/512 GB ...  ₹29,990   \n",
       "4    Acer One Core i3 11th Gen 1115G4 - (8 GB/512 G...  ₹26,990   \n",
       "..                                                 ...      ...   \n",
       "680  ASUS Vivobook Go 15 (2023) Ryzen 5 Quad Core 7...  ₹39,990   \n",
       "681  Acer Aspire 7 Core i5 12th Gen 12450H - (16 GB...  ₹54,990   \n",
       "682  Infinix Y1 Plus Neo Intel Celeron Quad Core 11...  ₹23,990   \n",
       "683  Infinix X3 Slim Intel Core i7 12th Gen 1255U -...  ₹46,990   \n",
       "684  ASUS Vivobook 15 Core i3 11th Gen 1115G4 - (8 ...  ₹35,990   \n",
       "\n",
       "               Model                Type Star_rating  \\\n",
       "0               XL28                Grey         4.2   \n",
       "1      15a- na0012TU          Chromebook         3.9   \n",
       "2     X515EA-EJ522WS  Transparent Silver         4.3   \n",
       "3       15s-ey1509AU      Natural Silver         4.1   \n",
       "4      AO 14 Z 8-415              Silver         4.2   \n",
       "..               ...                 ...         ...   \n",
       "680  E1504FA-NJ522WS         Mixed Black         4.2   \n",
       "681         A715-76G      Charcoal Black         4.2   \n",
       "682             XL30                Blue           4   \n",
       "683            XL422                Grey         4.1   \n",
       "684   X515EA-EJ322WS  Transparent Silver         4.4   \n",
       "\n",
       "                                              Comments  \n",
       "0    They offer free 6 months Microsoft 365 in the ...  \n",
       "1    Nice product suitable for any type of working ...  \n",
       "2     BEST LEPTOP BEST PRICE BEST PERFORMANCEREAD MORE  \n",
       "3    Price wise decent deal with nice battery backu...  \n",
       "4    pros:  - build quality is good considering pri...  \n",
       "..                                                 ...  \n",
       "680  Product is 👍 I will review after using 1 month...  \n",
       "681  Cheapest RTX laptop with 16gigs of RAM right n...  \n",
       "682  Good product... great priceee.... Laptop look ...  \n",
       "683       Decent product at this price range.READ MORE  \n",
       "684  The product is worth money, But the shipping i...  \n",
       "\n",
       "[685 rows x 6 columns]"
      ]
     },
     "execution_count": 255,
     "metadata": {},
     "output_type": "execute_result"
    }
   ],
   "source": [
    "df= pd.DataFrame({'Product_title':Product_title,'Price':Price,'Model':Model,'Type':Type,'Star_rating':Star_rating,'Comments':Comments})\n",
    "df"
   ]
  },
  {
   "cell_type": "code",
   "execution_count": 260,
   "metadata": {},
   "outputs": [],
   "source": [
    "csv_file_path = 'Product.csv'\n",
    "# Export the DataFrame to a CSV file\n",
    "df.to_csv(csv_file_path, index=False)"
   ]
  },
  {
   "cell_type": "markdown",
   "metadata": {},
   "source": [
    " <font color='brown'> These are converted to a dataframe and are exported as a csv file .</font>"
   ]
  },
  {
   "cell_type": "markdown",
   "metadata": {
    "id": "Qmy2ot4AMNbk"
   },
   "source": [
    "#### Using  Product.CSV as dataset to perform Sentiment Analysis model which will predict the positive/negative review based on the star rating.\n"
   ]
  },
  {
   "cell_type": "code",
   "execution_count": 233,
   "metadata": {
    "id": "fkZXiNMiOfJh"
   },
   "outputs": [
    {
     "data": {
      "text/html": [
       "<div>\n",
       "<style scoped>\n",
       "    .dataframe tbody tr th:only-of-type {\n",
       "        vertical-align: middle;\n",
       "    }\n",
       "\n",
       "    .dataframe tbody tr th {\n",
       "        vertical-align: top;\n",
       "    }\n",
       "\n",
       "    .dataframe thead th {\n",
       "        text-align: right;\n",
       "    }\n",
       "</style>\n",
       "<table border=\"1\" class=\"dataframe\">\n",
       "  <thead>\n",
       "    <tr style=\"text-align: right;\">\n",
       "      <th></th>\n",
       "      <th>Product_title</th>\n",
       "      <th>Price</th>\n",
       "      <th>Model</th>\n",
       "      <th>Type</th>\n",
       "      <th>Star_rating</th>\n",
       "      <th>Comments</th>\n",
       "    </tr>\n",
       "  </thead>\n",
       "  <tbody>\n",
       "    <tr>\n",
       "      <th>0</th>\n",
       "      <td>Acer One Core i3 11th Gen 1115G4 - (8 GB/512 G...</td>\n",
       "      <td>₹26,990</td>\n",
       "      <td>Z8-415</td>\n",
       "      <td>Thin and Light Laptop</td>\n",
       "      <td>4.2</td>\n",
       "      <td>pros:- build quality is good considering price...</td>\n",
       "    </tr>\n",
       "    <tr>\n",
       "      <th>1</th>\n",
       "      <td>Acer One Core i3 11th Gen 1115G4 - (8 GB/512 G...</td>\n",
       "      <td>₹26,990</td>\n",
       "      <td>Z8-415</td>\n",
       "      <td>Thin and Light Laptop</td>\n",
       "      <td>4.2</td>\n",
       "      <td>Acer one core laptop purchased 26 Aug 2023 but...</td>\n",
       "    </tr>\n",
       "    <tr>\n",
       "      <th>2</th>\n",
       "      <td>Acer One Core i3 11th Gen 1115G4 - (8 GB/512 G...</td>\n",
       "      <td>₹26,990</td>\n",
       "      <td>Z8-415</td>\n",
       "      <td>Thin and Light Laptop</td>\n",
       "      <td>4.2</td>\n",
       "      <td>WRITING REVIEW AFTER 2 DAYS USE.FLIPKART DELIV...</td>\n",
       "    </tr>\n",
       "    <tr>\n",
       "      <th>3</th>\n",
       "      <td>Acer One Core i3 11th Gen 1115G4 - (8 GB/512 G...</td>\n",
       "      <td>₹26,990</td>\n",
       "      <td>Z8-415</td>\n",
       "      <td>Thin and Light Laptop</td>\n",
       "      <td>4.2</td>\n",
       "      <td>Nice productValue for money but could be bette...</td>\n",
       "    </tr>\n",
       "    <tr>\n",
       "      <th>4</th>\n",
       "      <td>Acer One Core i3 11th Gen 1115G4 - (8 GB/512 G...</td>\n",
       "      <td>₹26,990</td>\n",
       "      <td>Z8-415</td>\n",
       "      <td>Thin and Light Laptop</td>\n",
       "      <td>4.2</td>\n",
       "      <td>Display issueREAD MORE</td>\n",
       "    </tr>\n",
       "  </tbody>\n",
       "</table>\n",
       "</div>"
      ],
      "text/plain": [
       "                                       Product_title    Price   Model  \\\n",
       "0  Acer One Core i3 11th Gen 1115G4 - (8 GB/512 G...  ₹26,990  Z8-415   \n",
       "1  Acer One Core i3 11th Gen 1115G4 - (8 GB/512 G...  ₹26,990  Z8-415   \n",
       "2  Acer One Core i3 11th Gen 1115G4 - (8 GB/512 G...  ₹26,990  Z8-415   \n",
       "3  Acer One Core i3 11th Gen 1115G4 - (8 GB/512 G...  ₹26,990  Z8-415   \n",
       "4  Acer One Core i3 11th Gen 1115G4 - (8 GB/512 G...  ₹26,990  Z8-415   \n",
       "\n",
       "                    Type  Star_rating  \\\n",
       "0  Thin and Light Laptop          4.2   \n",
       "1  Thin and Light Laptop          4.2   \n",
       "2  Thin and Light Laptop          4.2   \n",
       "3  Thin and Light Laptop          4.2   \n",
       "4  Thin and Light Laptop          4.2   \n",
       "\n",
       "                                            Comments  \n",
       "0  pros:- build quality is good considering price...  \n",
       "1  Acer one core laptop purchased 26 Aug 2023 but...  \n",
       "2  WRITING REVIEW AFTER 2 DAYS USE.FLIPKART DELIV...  \n",
       "3  Nice productValue for money but could be bette...  \n",
       "4                             Display issueREAD MORE  "
      ]
     },
     "execution_count": 233,
     "metadata": {},
     "output_type": "execute_result"
    }
   ],
   "source": [
    "df1=pd.read_csv(\"Product.csv\")\n",
    "df1.head()"
   ]
  },
  {
   "cell_type": "markdown",
   "metadata": {
    "id": "mdgmN85yOfh0"
   },
   "source": [
    "Prepare the data"
   ]
  },
  {
   "cell_type": "code",
   "execution_count": 234,
   "metadata": {
    "id": "57LAO4oSOlK4"
   },
   "outputs": [
    {
     "data": {
      "text/plain": [
       "(3281, 6)"
      ]
     },
     "execution_count": 234,
     "metadata": {},
     "output_type": "execute_result"
    }
   ],
   "source": [
    "df1.shape"
   ]
  },
  {
   "cell_type": "code",
   "execution_count": 235,
   "metadata": {},
   "outputs": [
    {
     "name": "stdout",
     "output_type": "stream",
     "text": [
      "<class 'pandas.core.frame.DataFrame'>\n",
      "RangeIndex: 3281 entries, 0 to 3280\n",
      "Data columns (total 6 columns):\n",
      " #   Column         Non-Null Count  Dtype  \n",
      "---  ------         --------------  -----  \n",
      " 0   Product_title  3259 non-null   object \n",
      " 1   Price          3249 non-null   object \n",
      " 2   Model          3169 non-null   object \n",
      " 3   Type           3259 non-null   object \n",
      " 4   Star_rating    3207 non-null   float64\n",
      " 5   Comments       3183 non-null   object \n",
      "dtypes: float64(1), object(5)\n",
      "memory usage: 153.9+ KB\n"
     ]
    }
   ],
   "source": [
    "df1.info()"
   ]
  },
  {
   "cell_type": "code",
   "execution_count": 236,
   "metadata": {},
   "outputs": [
    {
     "data": {
      "text/plain": [
       "360"
      ]
     },
     "execution_count": 236,
     "metadata": {},
     "output_type": "execute_result"
    }
   ],
   "source": [
    "df1.isnull().sum().sum()"
   ]
  },
  {
   "cell_type": "code",
   "execution_count": 237,
   "metadata": {},
   "outputs": [
    {
     "data": {
      "text/html": [
       "<div>\n",
       "<style scoped>\n",
       "    .dataframe tbody tr th:only-of-type {\n",
       "        vertical-align: middle;\n",
       "    }\n",
       "\n",
       "    .dataframe tbody tr th {\n",
       "        vertical-align: top;\n",
       "    }\n",
       "\n",
       "    .dataframe thead th {\n",
       "        text-align: right;\n",
       "    }\n",
       "</style>\n",
       "<table border=\"1\" class=\"dataframe\">\n",
       "  <thead>\n",
       "    <tr style=\"text-align: right;\">\n",
       "      <th></th>\n",
       "      <th>Product_title</th>\n",
       "      <th>Price</th>\n",
       "      <th>Model</th>\n",
       "      <th>Type</th>\n",
       "      <th>Star_rating</th>\n",
       "      <th>Comments</th>\n",
       "    </tr>\n",
       "  </thead>\n",
       "  <tbody>\n",
       "    <tr>\n",
       "      <th>487</th>\n",
       "      <td>HP Core i5 12th Gen 1235U - (8 GB/512 GB SSD/W...</td>\n",
       "      <td>₹54,990</td>\n",
       "      <td>15s-fy5007TU</td>\n",
       "      <td>Thin and Light Laptop</td>\n",
       "      <td>4.3</td>\n",
       "      <td>NaN</td>\n",
       "    </tr>\n",
       "    <tr>\n",
       "      <th>528</th>\n",
       "      <td>NaN</td>\n",
       "      <td>NaN</td>\n",
       "      <td>NaN</td>\n",
       "      <td>NaN</td>\n",
       "      <td>NaN</td>\n",
       "      <td>NaN</td>\n",
       "    </tr>\n",
       "    <tr>\n",
       "      <th>622</th>\n",
       "      <td>NaN</td>\n",
       "      <td>NaN</td>\n",
       "      <td>NaN</td>\n",
       "      <td>NaN</td>\n",
       "      <td>NaN</td>\n",
       "      <td>NaN</td>\n",
       "    </tr>\n",
       "    <tr>\n",
       "      <th>753</th>\n",
       "      <td>MSI GF63 Core i5 11th Gen 11260H - (8 GB/512 G...</td>\n",
       "      <td>₹47,990</td>\n",
       "      <td>GF63 Thin 11UCX-1497IN</td>\n",
       "      <td>Gaming Laptop</td>\n",
       "      <td>4.9</td>\n",
       "      <td>NaN</td>\n",
       "    </tr>\n",
       "    <tr>\n",
       "      <th>835</th>\n",
       "      <td>NaN</td>\n",
       "      <td>NaN</td>\n",
       "      <td>NaN</td>\n",
       "      <td>NaN</td>\n",
       "      <td>NaN</td>\n",
       "      <td>NaN</td>\n",
       "    </tr>\n",
       "    <tr>\n",
       "      <th>...</th>\n",
       "      <td>...</td>\n",
       "      <td>...</td>\n",
       "      <td>...</td>\n",
       "      <td>...</td>\n",
       "      <td>...</td>\n",
       "      <td>...</td>\n",
       "    </tr>\n",
       "    <tr>\n",
       "      <th>3266</th>\n",
       "      <td>NaN</td>\n",
       "      <td>NaN</td>\n",
       "      <td>NaN</td>\n",
       "      <td>NaN</td>\n",
       "      <td>NaN</td>\n",
       "      <td>NaN</td>\n",
       "    </tr>\n",
       "    <tr>\n",
       "      <th>3267</th>\n",
       "      <td>Lenovo S14 Core i5 12th Gen 1235U - (8 GB/512 ...</td>\n",
       "      <td>₹48,990</td>\n",
       "      <td>S14</td>\n",
       "      <td>Business Laptop</td>\n",
       "      <td>5.0</td>\n",
       "      <td>NaN</td>\n",
       "    </tr>\n",
       "    <tr>\n",
       "      <th>3268</th>\n",
       "      <td>ZEBRONICS Pro Series Z Intel Core i7 12th Gen ...</td>\n",
       "      <td>₹54,990</td>\n",
       "      <td>ZEB-NBC 5S</td>\n",
       "      <td>Thin and Light Laptop</td>\n",
       "      <td>NaN</td>\n",
       "      <td>NaN</td>\n",
       "    </tr>\n",
       "    <tr>\n",
       "      <th>3279</th>\n",
       "      <td>DELL Inspiron 5430 Core i7 13th Gen 13th Gener...</td>\n",
       "      <td>₹96,990</td>\n",
       "      <td>INSPIRON 5430</td>\n",
       "      <td>Thin and Light Laptop</td>\n",
       "      <td>4.2</td>\n",
       "      <td>NaN</td>\n",
       "    </tr>\n",
       "    <tr>\n",
       "      <th>3280</th>\n",
       "      <td>ASUS Vivobook 14X OLED (2023) For Creator, Int...</td>\n",
       "      <td>₹92,990</td>\n",
       "      <td>K3405VCB-KM542WS</td>\n",
       "      <td>Gaming Laptop</td>\n",
       "      <td>NaN</td>\n",
       "      <td>NaN</td>\n",
       "    </tr>\n",
       "  </tbody>\n",
       "</table>\n",
       "<p>207 rows × 6 columns</p>\n",
       "</div>"
      ],
      "text/plain": [
       "                                          Product_title    Price  \\\n",
       "487   HP Core i5 12th Gen 1235U - (8 GB/512 GB SSD/W...  ₹54,990   \n",
       "528                                                 NaN      NaN   \n",
       "622                                                 NaN      NaN   \n",
       "753   MSI GF63 Core i5 11th Gen 11260H - (8 GB/512 G...  ₹47,990   \n",
       "835                                                 NaN      NaN   \n",
       "...                                                 ...      ...   \n",
       "3266                                                NaN      NaN   \n",
       "3267  Lenovo S14 Core i5 12th Gen 1235U - (8 GB/512 ...  ₹48,990   \n",
       "3268  ZEBRONICS Pro Series Z Intel Core i7 12th Gen ...  ₹54,990   \n",
       "3279  DELL Inspiron 5430 Core i7 13th Gen 13th Gener...  ₹96,990   \n",
       "3280  ASUS Vivobook 14X OLED (2023) For Creator, Int...  ₹92,990   \n",
       "\n",
       "                       Model                   Type  Star_rating Comments  \n",
       "487             15s-fy5007TU  Thin and Light Laptop          4.3      NaN  \n",
       "528                      NaN                    NaN          NaN      NaN  \n",
       "622                      NaN                    NaN          NaN      NaN  \n",
       "753   GF63 Thin 11UCX-1497IN          Gaming Laptop          4.9      NaN  \n",
       "835                      NaN                    NaN          NaN      NaN  \n",
       "...                      ...                    ...          ...      ...  \n",
       "3266                     NaN                    NaN          NaN      NaN  \n",
       "3267                     S14        Business Laptop          5.0      NaN  \n",
       "3268              ZEB-NBC 5S  Thin and Light Laptop          NaN      NaN  \n",
       "3279           INSPIRON 5430  Thin and Light Laptop          4.2      NaN  \n",
       "3280        K3405VCB-KM542WS          Gaming Laptop          NaN      NaN  \n",
       "\n",
       "[207 rows x 6 columns]"
      ]
     },
     "execution_count": 237,
     "metadata": {},
     "output_type": "execute_result"
    }
   ],
   "source": [
    "rows_with_null = df1[df1.isnull().any(axis=1)]\n",
    "rows_with_null"
   ]
  },
  {
   "cell_type": "code",
   "execution_count": 238,
   "metadata": {},
   "outputs": [],
   "source": [
    "from sklearn.impute import KNNImputer\n",
    "\n",
    "def KNN_imp(col):\n",
    "    X = df1[[col]]                         # Dataframe containing column with missing values.\n",
    "    imputer = KNNImputer(n_neighbors=3)   # KNN imputer object with k=3.\n",
    "    X_imputed = imputer.fit_transform(X)  # Imputing missing values.\n",
    "    df1[col] = X_imputed                   # Replacing missing values with the imputed values.\n",
    "            \n",
    "def mode_imp(col):\n",
    "    for i in range(len(df1)):\n",
    "            mode_val=df1[col].mode()\n",
    "            df1[col].fillna(value=mode_val[0], inplace=True)     \n",
    "            "
   ]
  },
  {
   "cell_type": "code",
   "execution_count": 239,
   "metadata": {},
   "outputs": [],
   "source": [
    "num_col=['Star_rating']\n",
    "catg_col= ['Product_title','Price','Model','Type','Comments']     \n",
    "         \n",
    "for i in num_col:\n",
    "    KNN_imp(i)\n",
    "    \n",
    "for i in catg_col:\n",
    "    mode_imp(i) "
   ]
  },
  {
   "cell_type": "code",
   "execution_count": 240,
   "metadata": {},
   "outputs": [
    {
     "data": {
      "text/plain": [
       "0"
      ]
     },
     "execution_count": 240,
     "metadata": {},
     "output_type": "execute_result"
    }
   ],
   "source": [
    "df1.isnull().sum().sum()"
   ]
  },
  {
   "cell_type": "markdown",
   "metadata": {},
   "source": [
    " <font color='brown'> Product.csv is loaded and missing values are imputed using KNN imputation.</font>"
   ]
  },
  {
   "cell_type": "code",
   "execution_count": 241,
   "metadata": {
    "id": "GSFpGgRMOoiG"
   },
   "outputs": [
    {
     "name": "stdout",
     "output_type": "stream",
     "text": [
      "Greater than 4.2 rating= 1538\n",
      "Less than or equal to 4.2 rating= 1743\n"
     ]
    }
   ],
   "source": [
    "print('Greater than 4.2 rating=',(df1['Star_rating'] > 4.2).value_counts().loc[True])\n",
    "print('Less than or equal to 4.2 rating=',(df1['Star_rating'] <= 4.2).value_counts().loc[True])"
   ]
  },
  {
   "cell_type": "code",
   "execution_count": 242,
   "metadata": {},
   "outputs": [],
   "source": [
    "def categorize_review(rating):\n",
    "    if rating > 4.2 :\n",
    "        return 'Positive'\n",
    "    else:\n",
    "        return 'Negative'\n",
    "\n",
    "# Apply the function to create a new column 'Sentiment' column\n",
    "df1['Sentiment'] = df1['Star_rating'].apply(categorize_review)"
   ]
  },
  {
   "cell_type": "code",
   "execution_count": 243,
   "metadata": {},
   "outputs": [
    {
     "data": {
      "text/plain": [
       "<Axes: xlabel='Sentiment', ylabel='count'>"
      ]
     },
     "execution_count": 243,
     "metadata": {},
     "output_type": "execute_result"
    },
    {
     "data": {
      "image/png": "[encoded data removed]",
      "text/plain": [
       "<Figure size 640x480 with 1 Axes>"
      ]
     },
     "metadata": {},
     "output_type": "display_data"
    }
   ],
   "source": [
    "import seaborn as sns\n",
    "sns.countplot(x='Sentiment',data=df1)"
   ]
  },
  {
   "cell_type": "markdown",
   "metadata": {},
   "source": [
    "   <font color='brown'> Lets add a new column called 'Sentiment' based on the rating values. Lets assume that ratings greater than 4.2 are 'Positive' and less than 4.2 rating as 'Negative'. </font>"
   ]
  },
  {
   "cell_type": "code",
   "execution_count": 244,
   "metadata": {},
   "outputs": [
    {
     "data": {
      "text/html": [
       "<div>\n",
       "<style scoped>\n",
       "    .dataframe tbody tr th:only-of-type {\n",
       "        vertical-align: middle;\n",
       "    }\n",
       "\n",
       "    .dataframe tbody tr th {\n",
       "        vertical-align: top;\n",
       "    }\n",
       "\n",
       "    .dataframe thead th {\n",
       "        text-align: right;\n",
       "    }\n",
       "</style>\n",
       "<table border=\"1\" class=\"dataframe\">\n",
       "  <thead>\n",
       "    <tr style=\"text-align: right;\">\n",
       "      <th></th>\n",
       "      <th>Product_title</th>\n",
       "      <th>Price</th>\n",
       "      <th>Model</th>\n",
       "      <th>Type</th>\n",
       "      <th>Star_rating</th>\n",
       "      <th>Comments</th>\n",
       "      <th>Sentiment</th>\n",
       "    </tr>\n",
       "  </thead>\n",
       "  <tbody>\n",
       "    <tr>\n",
       "      <th>0</th>\n",
       "      <td>Acer One Core i3 11th Gen 1115G4 - (8 GB/512 G...</td>\n",
       "      <td>₹26,990</td>\n",
       "      <td>Z8-415</td>\n",
       "      <td>Thin and Light Laptop</td>\n",
       "      <td>4.2</td>\n",
       "      <td>pros:- build quality is good considering price...</td>\n",
       "      <td>Negative</td>\n",
       "    </tr>\n",
       "    <tr>\n",
       "      <th>1</th>\n",
       "      <td>Acer One Core i3 11th Gen 1115G4 - (8 GB/512 G...</td>\n",
       "      <td>₹26,990</td>\n",
       "      <td>Z8-415</td>\n",
       "      <td>Thin and Light Laptop</td>\n",
       "      <td>4.2</td>\n",
       "      <td>Acer one core laptop purchased 26 Aug 2023 but...</td>\n",
       "      <td>Negative</td>\n",
       "    </tr>\n",
       "    <tr>\n",
       "      <th>2</th>\n",
       "      <td>Acer One Core i3 11th Gen 1115G4 - (8 GB/512 G...</td>\n",
       "      <td>₹26,990</td>\n",
       "      <td>Z8-415</td>\n",
       "      <td>Thin and Light Laptop</td>\n",
       "      <td>4.2</td>\n",
       "      <td>WRITING REVIEW AFTER 2 DAYS USE.FLIPKART DELIV...</td>\n",
       "      <td>Negative</td>\n",
       "    </tr>\n",
       "    <tr>\n",
       "      <th>3</th>\n",
       "      <td>Acer One Core i3 11th Gen 1115G4 - (8 GB/512 G...</td>\n",
       "      <td>₹26,990</td>\n",
       "      <td>Z8-415</td>\n",
       "      <td>Thin and Light Laptop</td>\n",
       "      <td>4.2</td>\n",
       "      <td>Nice productValue for money but could be bette...</td>\n",
       "      <td>Negative</td>\n",
       "    </tr>\n",
       "    <tr>\n",
       "      <th>4</th>\n",
       "      <td>Acer One Core i3 11th Gen 1115G4 - (8 GB/512 G...</td>\n",
       "      <td>₹26,990</td>\n",
       "      <td>Z8-415</td>\n",
       "      <td>Thin and Light Laptop</td>\n",
       "      <td>4.2</td>\n",
       "      <td>Display issueREAD MORE</td>\n",
       "      <td>Negative</td>\n",
       "    </tr>\n",
       "  </tbody>\n",
       "</table>\n",
       "</div>"
      ],
      "text/plain": [
       "                                       Product_title    Price   Model  \\\n",
       "0  Acer One Core i3 11th Gen 1115G4 - (8 GB/512 G...  ₹26,990  Z8-415   \n",
       "1  Acer One Core i3 11th Gen 1115G4 - (8 GB/512 G...  ₹26,990  Z8-415   \n",
       "2  Acer One Core i3 11th Gen 1115G4 - (8 GB/512 G...  ₹26,990  Z8-415   \n",
       "3  Acer One Core i3 11th Gen 1115G4 - (8 GB/512 G...  ₹26,990  Z8-415   \n",
       "4  Acer One Core i3 11th Gen 1115G4 - (8 GB/512 G...  ₹26,990  Z8-415   \n",
       "\n",
       "                    Type  Star_rating  \\\n",
       "0  Thin and Light Laptop          4.2   \n",
       "1  Thin and Light Laptop          4.2   \n",
       "2  Thin and Light Laptop          4.2   \n",
       "3  Thin and Light Laptop          4.2   \n",
       "4  Thin and Light Laptop          4.2   \n",
       "\n",
       "                                            Comments Sentiment  \n",
       "0  pros:- build quality is good considering price...  Negative  \n",
       "1  Acer one core laptop purchased 26 Aug 2023 but...  Negative  \n",
       "2  WRITING REVIEW AFTER 2 DAYS USE.FLIPKART DELIV...  Negative  \n",
       "3  Nice productValue for money but could be bette...  Negative  \n",
       "4                             Display issueREAD MORE  Negative  "
      ]
     },
     "execution_count": 244,
     "metadata": {},
     "output_type": "execute_result"
    }
   ],
   "source": [
    "df1.head()"
   ]
  },
  {
   "cell_type": "code",
   "execution_count": 245,
   "metadata": {
    "scrolled": true
   },
   "outputs": [
    {
     "data": {
      "text/html": [
       "<div>\n",
       "<style scoped>\n",
       "    .dataframe tbody tr th:only-of-type {\n",
       "        vertical-align: middle;\n",
       "    }\n",
       "\n",
       "    .dataframe tbody tr th {\n",
       "        vertical-align: top;\n",
       "    }\n",
       "\n",
       "    .dataframe thead th {\n",
       "        text-align: right;\n",
       "    }\n",
       "</style>\n",
       "<table border=\"1\" class=\"dataframe\">\n",
       "  <thead>\n",
       "    <tr style=\"text-align: right;\">\n",
       "      <th></th>\n",
       "      <th>Product_title</th>\n",
       "      <th>Price</th>\n",
       "      <th>Model</th>\n",
       "      <th>Type</th>\n",
       "      <th>Star_rating</th>\n",
       "      <th>Comments</th>\n",
       "      <th>Sentiment</th>\n",
       "    </tr>\n",
       "  </thead>\n",
       "  <tbody>\n",
       "    <tr>\n",
       "      <th>0</th>\n",
       "      <td>Acer One Core i3 11th Gen 1115G4 - (8 GB/512 G...</td>\n",
       "      <td>₹26,990</td>\n",
       "      <td>Z8-415</td>\n",
       "      <td>Thin and Light Laptop</td>\n",
       "      <td>4.2</td>\n",
       "      <td>pros:- build quality is good considering price...</td>\n",
       "      <td>0</td>\n",
       "    </tr>\n",
       "    <tr>\n",
       "      <th>1</th>\n",
       "      <td>Acer One Core i3 11th Gen 1115G4 - (8 GB/512 G...</td>\n",
       "      <td>₹26,990</td>\n",
       "      <td>Z8-415</td>\n",
       "      <td>Thin and Light Laptop</td>\n",
       "      <td>4.2</td>\n",
       "      <td>Acer one core laptop purchased 26 Aug 2023 but...</td>\n",
       "      <td>0</td>\n",
       "    </tr>\n",
       "    <tr>\n",
       "      <th>2</th>\n",
       "      <td>Acer One Core i3 11th Gen 1115G4 - (8 GB/512 G...</td>\n",
       "      <td>₹26,990</td>\n",
       "      <td>Z8-415</td>\n",
       "      <td>Thin and Light Laptop</td>\n",
       "      <td>4.2</td>\n",
       "      <td>WRITING REVIEW AFTER 2 DAYS USE.FLIPKART DELIV...</td>\n",
       "      <td>0</td>\n",
       "    </tr>\n",
       "    <tr>\n",
       "      <th>3</th>\n",
       "      <td>Acer One Core i3 11th Gen 1115G4 - (8 GB/512 G...</td>\n",
       "      <td>₹26,990</td>\n",
       "      <td>Z8-415</td>\n",
       "      <td>Thin and Light Laptop</td>\n",
       "      <td>4.2</td>\n",
       "      <td>Nice productValue for money but could be bette...</td>\n",
       "      <td>0</td>\n",
       "    </tr>\n",
       "    <tr>\n",
       "      <th>4</th>\n",
       "      <td>Acer One Core i3 11th Gen 1115G4 - (8 GB/512 G...</td>\n",
       "      <td>₹26,990</td>\n",
       "      <td>Z8-415</td>\n",
       "      <td>Thin and Light Laptop</td>\n",
       "      <td>4.2</td>\n",
       "      <td>Display issueREAD MORE</td>\n",
       "      <td>0</td>\n",
       "    </tr>\n",
       "  </tbody>\n",
       "</table>\n",
       "</div>"
      ],
      "text/plain": [
       "                                       Product_title    Price   Model  \\\n",
       "0  Acer One Core i3 11th Gen 1115G4 - (8 GB/512 G...  ₹26,990  Z8-415   \n",
       "1  Acer One Core i3 11th Gen 1115G4 - (8 GB/512 G...  ₹26,990  Z8-415   \n",
       "2  Acer One Core i3 11th Gen 1115G4 - (8 GB/512 G...  ₹26,990  Z8-415   \n",
       "3  Acer One Core i3 11th Gen 1115G4 - (8 GB/512 G...  ₹26,990  Z8-415   \n",
       "4  Acer One Core i3 11th Gen 1115G4 - (8 GB/512 G...  ₹26,990  Z8-415   \n",
       "\n",
       "                    Type  Star_rating  \\\n",
       "0  Thin and Light Laptop          4.2   \n",
       "1  Thin and Light Laptop          4.2   \n",
       "2  Thin and Light Laptop          4.2   \n",
       "3  Thin and Light Laptop          4.2   \n",
       "4  Thin and Light Laptop          4.2   \n",
       "\n",
       "                                            Comments  Sentiment  \n",
       "0  pros:- build quality is good considering price...          0  \n",
       "1  Acer one core laptop purchased 26 Aug 2023 but...          0  \n",
       "2  WRITING REVIEW AFTER 2 DAYS USE.FLIPKART DELIV...          0  \n",
       "3  Nice productValue for money but could be bette...          0  \n",
       "4                             Display issueREAD MORE          0  "
      ]
     },
     "execution_count": 245,
     "metadata": {},
     "output_type": "execute_result"
    }
   ],
   "source": [
    "df1['Sentiment']=df1['Sentiment'].replace({'Negative':0,'Positive':1})\n",
    "df1.head(5)"
   ]
  },
  {
   "cell_type": "markdown",
   "metadata": {},
   "source": [
    " <font color='brown'> Positive and Negative sentiments are replaced by values 1 and 0.</font>"
   ]
  },
  {
   "cell_type": "markdown",
   "metadata": {
    "id": "qGKJM6ysOliX"
   },
   "source": [
    "#### Text preprocessing tasks"
   ]
  },
  {
   "cell_type": "code",
   "execution_count": 246,
   "metadata": {},
   "outputs": [
    {
     "data": {
      "text/html": [
       "<div>\n",
       "<style scoped>\n",
       "    .dataframe tbody tr th:only-of-type {\n",
       "        vertical-align: middle;\n",
       "    }\n",
       "\n",
       "    .dataframe tbody tr th {\n",
       "        vertical-align: top;\n",
       "    }\n",
       "\n",
       "    .dataframe thead th {\n",
       "        text-align: right;\n",
       "    }\n",
       "</style>\n",
       "<table border=\"1\" class=\"dataframe\">\n",
       "  <thead>\n",
       "    <tr style=\"text-align: right;\">\n",
       "      <th></th>\n",
       "      <th>Comments</th>\n",
       "      <th>Sentiment</th>\n",
       "    </tr>\n",
       "  </thead>\n",
       "  <tbody>\n",
       "    <tr>\n",
       "      <th>0</th>\n",
       "      <td>pros:- build quality is good considering price...</td>\n",
       "      <td>0</td>\n",
       "    </tr>\n",
       "    <tr>\n",
       "      <th>1</th>\n",
       "      <td>Acer one core laptop purchased 26 Aug 2023 but...</td>\n",
       "      <td>0</td>\n",
       "    </tr>\n",
       "    <tr>\n",
       "      <th>2</th>\n",
       "      <td>WRITING REVIEW AFTER 2 DAYS USE.FLIPKART DELIV...</td>\n",
       "      <td>0</td>\n",
       "    </tr>\n",
       "    <tr>\n",
       "      <th>3</th>\n",
       "      <td>Nice productValue for money but could be bette...</td>\n",
       "      <td>0</td>\n",
       "    </tr>\n",
       "    <tr>\n",
       "      <th>4</th>\n",
       "      <td>Display issueREAD MORE</td>\n",
       "      <td>0</td>\n",
       "    </tr>\n",
       "  </tbody>\n",
       "</table>\n",
       "</div>"
      ],
      "text/plain": [
       "                                            Comments  Sentiment\n",
       "0  pros:- build quality is good considering price...          0\n",
       "1  Acer one core laptop purchased 26 Aug 2023 but...          0\n",
       "2  WRITING REVIEW AFTER 2 DAYS USE.FLIPKART DELIV...          0\n",
       "3  Nice productValue for money but could be bette...          0\n",
       "4                             Display issueREAD MORE          0"
      ]
     },
     "execution_count": 246,
     "metadata": {},
     "output_type": "execute_result"
    }
   ],
   "source": [
    "data=df1[['Comments','Sentiment']]\n",
    "data.head()"
   ]
  },
  {
   "cell_type": "code",
   "execution_count": 247,
   "metadata": {},
   "outputs": [
    {
     "data": {
      "text/plain": [
       "(3281, 2)"
      ]
     },
     "execution_count": 247,
     "metadata": {},
     "output_type": "execute_result"
    }
   ],
   "source": [
    "data.shape"
   ]
  },
  {
   "cell_type": "code",
   "execution_count": 248,
   "metadata": {},
   "outputs": [],
   "source": [
    "import re\n",
    "import nltk\n",
    "from nltk.corpus import stopwords\n",
    "from numpy import array\n",
    "\n",
    "from keras.preprocessing.text import one_hot, Tokenizer\n",
    "from keras.preprocessing.sequence import pad_sequences\n",
    "from sklearn.model_selection import train_test_split"
   ]
  },
  {
   "cell_type": "code",
   "execution_count": 249,
   "metadata": {},
   "outputs": [
    {
     "name": "stderr",
     "output_type": "stream",
     "text": [
      "[nltk_data] Downloading package stopwords to C:\\Users\\Priyadarsshini\n",
      "[nltk_data]     S\\AppData\\Roaming\\nltk_data...\n",
      "[nltk_data]   Package stopwords is already up-to-date!\n"
     ]
    },
    {
     "data": {
      "text/plain": [
       "True"
      ]
     },
     "execution_count": 249,
     "metadata": {},
     "output_type": "execute_result"
    }
   ],
   "source": [
    "import nltk\n",
    "nltk.download('stopwords')"
   ]
  },
  {
   "cell_type": "code",
   "execution_count": 250,
   "metadata": {},
   "outputs": [],
   "source": [
    "TAG_RE = re.compile(r'<[^>]+>')\n",
    "\n",
    "def remove_tags(text):\n",
    "    '''Removes HTML tags: replaces anything between opening and closing <> with empty space'''\n",
    "\n",
    "    return TAG_RE.sub('', text)\n",
    "\n",
    "def preprocess_text(sen):\n",
    "    sentence = sen.lower()\n",
    "    sentence = remove_tags(sentence)\n",
    "    # Remove punctuations and numbers\n",
    "    sentence = re.sub('[^a-zA-Z]', ' ', sentence)\n",
    "    # Single character removal\n",
    "    sentence = re.sub(r\"\\s+[a-zA-Z]\\s+\", ' ', sentence)  #Remove apostrophe from the word \"Mark's\", the apostrophe is replaced by an empty space. Hence, we are left with single character \"s\" that we are removing here.\n",
    "    # Remove multiple spaces\n",
    "    sentence = re.sub(r'\\s+', ' ', sentence)  # Next, we remove all the single characters and replace it by a space which creates multiple spaces in our text. Finally, we remove the multiple spaces from our text as well.\n",
    "    # Remove Stopwords\n",
    "    pattern = re.compile(r'\\b(' + r'|'.join(stopwords.words('english')) + r')\\b\\s*')\n",
    "    sentence = pattern.sub('', sentence)\n",
    "    return sentence"
   ]
  },
  {
   "cell_type": "markdown",
   "metadata": {},
   "source": [
    " <font color='brown'> All special characters, numbers and html tags are removed from the dataset.Text is converted to lowercase. Single character like apostrophe and multiple spaces are removed. Stop words like 'is','was' are removed. </font>"
   ]
  },
  {
   "cell_type": "markdown",
   "metadata": {
    "id": "52HJJMHvOvf1"
   },
   "source": [
    "#### Separate the dependent and the independent variables."
   ]
  },
  {
   "cell_type": "code",
   "execution_count": 251,
   "metadata": {},
   "outputs": [
    {
     "data": {
      "text/plain": [
       "'WRITING REVIEW AFTER 2 DAYS USE.FLIPKART DELIVERY IS EXCELLENT. I GOT DELIVERY IN ONE DAY.PROS:Boots in less than 12 secondsIPS DISPLAYLIGHT WEIGHT= 1.5KGPERFORMANCE AT PAR WITH OTHER I3 11TH GEN LAPTOPSSequential read write speed is 3100/2900 MBPSGEEK BENCHMARK 6 SCORESINGLE CORE 1877MULTI CORE 3350RAM USED SAMSUNG DDR4 3200MHZ, SINGLE CHANNEL.CONS:SSD NOT SHOWING IN SOFTWAREWIFI RECEPTION IS LOW. GIVES HALF THE SPEED COMPARED TO MY REALME 5 PRO MOBILE AT 20 FEET DI...READ MORE'"
      ]
     },
     "execution_count": 251,
     "metadata": {},
     "output_type": "execute_result"
    }
   ],
   "source": [
    "#Before Text preprocessing\n",
    "data['Comments'][2]"
   ]
  },
  {
   "cell_type": "code",
   "execution_count": 252,
   "metadata": {},
   "outputs": [],
   "source": [
    "corpus = []\n",
    "Comments = list(data['Comments'])\n",
    "for line in Comments:\n",
    "    corpus.append(preprocess_text(line))"
   ]
  },
  {
   "cell_type": "code",
   "execution_count": 253,
   "metadata": {},
   "outputs": [
    {
     "data": {
      "text/plain": [
       "'writing review days use flipkart delivery excellent got delivery one day pros boots less secondsips displaylight weight kgperformance par th gen laptopssequential read write speed mbpsgeek benchmark scoresingle core multi core ram used samsung ddr mhz single channel cons ssd showing softwarewifi reception low gives half speed compared realme pro mobile feet di read '"
      ]
     },
     "execution_count": 253,
     "metadata": {},
     "output_type": "execute_result"
    }
   ],
   "source": [
    "#After Text preprocessing\n",
    "corpus[2]"
   ]
  },
  {
   "cell_type": "markdown",
   "metadata": {},
   "source": [
    "  <font color='brown'> This shows the comparison between 'Before' and 'After' text pre-processing.</font>"
   ]
  },
  {
   "cell_type": "code",
   "execution_count": 254,
   "metadata": {},
   "outputs": [
    {
     "data": {
      "text/plain": [
       "array([0, 0, 0, ..., 1, 0, 1], dtype=int64)"
      ]
     },
     "execution_count": 254,
     "metadata": {},
     "output_type": "execute_result"
    }
   ],
   "source": [
    "Y = data['Sentiment'].values\n",
    "Y"
   ]
  },
  {
   "cell_type": "code",
   "execution_count": 255,
   "metadata": {
    "id": "RWHQP2yCOzpZ"
   },
   "outputs": [
    {
     "data": {
      "text/plain": [
       "['pros build quality good considering price display also good fhd ips panel overall good package performance good gta low gives avg fps low gives fps type port fully functional connect external display power delivery battery decent easily give hrs normal usecons display backlit bleed issue visible full black output wifi pathetic speed less get mbps mobile read ',\n",
       " 'acer one core laptop purchased aug display blink keys work flipkart team ignore problems replacement refund shamless flipkart pls buy products flipkartread ',\n",
       " 'writing review days use flipkart delivery excellent got delivery one day pros boots less secondsips displaylight weight kgperformance par th gen laptopssequential read write speed mbpsgeek benchmark scoresingle core multi core ram used samsung ddr mhz single channel cons ssd showing softwarewifi reception low gives half speed compared realme pro mobile feet di read ',\n",
       " 'nice productvalue money could betterread ',\n",
       " 'display issueread ',\n",
       " 'niceread ',\n",
       " 'product good decent completely value money like lot things company cuts price example speakers display keyboard speaker speaker base high volume display also good bad keyboard like decent backlight keyboard alphabets number keys also like simple white coloured sticker mean laptop totally worth cost want use like simple meetings offi read ',\n",
       " 'good productread ',\n",
       " 'value money product pros displayprocessorbatteryramos windows cons built qualitycameragraphicsspeakersread ',\n",
       " 'super mastread ']"
      ]
     },
     "execution_count": 255,
     "metadata": {},
     "output_type": "execute_result"
    }
   ],
   "source": [
    "corpus[:10]"
   ]
  },
  {
   "cell_type": "markdown",
   "metadata": {
    "id": "QDR0FiQANru9"
   },
   "source": [
    "#### Feature Extraction - Count vectorizer and pad sequence using maximum features as 1000"
   ]
  },
  {
   "cell_type": "code",
   "execution_count": 256,
   "metadata": {
    "scrolled": true
   },
   "outputs": [
    {
     "name": "stderr",
     "output_type": "stream",
     "text": [
      "C:\\Users\\Priyadarsshini S\\anaconda3\\Lib\\site-packages\\keras\\src\\preprocessing\\text.py:246: UserWarning: The `nb_words` argument in `Tokenizer` has been renamed `num_words`.\n",
      "  warnings.warn(\n"
     ]
    }
   ],
   "source": [
    "max_features = 1000\n",
    "tokenizer = Tokenizer(nb_words=max_features, split=' ')\n",
    "tokenizer.fit_on_texts(corpus)\n",
    "X = tokenizer.texts_to_sequences(corpus)\n",
    "X = pad_sequences(X)"
   ]
  },
  {
   "cell_type": "code",
   "execution_count": 257,
   "metadata": {},
   "outputs": [
    {
     "data": {
      "text/plain": [
       "array([  0,   0,   0,   0,   0,   0,   0,   0,   0,   0,   0,   0,   0,\n",
       "       260,  66,  46,  26,  31,  95,  28,  40,  95,  17,  58,  98, 493,\n",
       "       150,  70, 788,  84,  94,   1, 595,  82, 246, 596, 246,  48, 129,\n",
       "       310, 289, 877, 667, 721, 134,  83, 597, 991,  47, 171, 363,  82,\n",
       "       290, 467, 434, 409,   1])"
      ]
     },
     "execution_count": 257,
     "metadata": {},
     "output_type": "execute_result"
    }
   ],
   "source": [
    "X[2]"
   ]
  },
  {
   "cell_type": "code",
   "execution_count": 258,
   "metadata": {
    "id": "imN7H7CLN7UB"
   },
   "outputs": [
    {
     "name": "stdout",
     "output_type": "stream",
     "text": [
      "Shape of training samples: (2624, 57) (2624,)\n",
      "Shape of testing samples: (657, 57) (657,)\n"
     ]
    }
   ],
   "source": [
    "X_train, X_test, Y_train, Y_test = train_test_split(X, Y,test_size = 0.2, random_state = 40)\n",
    "print('Shape of training samples:',X_train.shape,Y_train.shape)\n",
    "print('Shape of testing samples:',X_test.shape,Y_test.shape)"
   ]
  },
  {
   "cell_type": "markdown",
   "metadata": {
    "id": "4-dI1PjgN7zs"
   },
   "source": [
    "### LSTM Model"
   ]
  },
  {
   "cell_type": "code",
   "execution_count": 259,
   "metadata": {},
   "outputs": [],
   "source": [
    "from keras.models import Sequential\n",
    "from keras.layers import Dense, Embedding, LSTM, GRU"
   ]
  },
  {
   "cell_type": "code",
   "execution_count": 260,
   "metadata": {},
   "outputs": [],
   "source": [
    "model = Sequential()\n",
    "model.add(Embedding(max_features, 128 ))\n",
    "model.add(LSTM(128))\n",
    "model.add(Dense(1, activation='sigmoid'))\n",
    "model.compile(loss = 'binary_crossentropy', optimizer='adam',metrics = ['accuracy'])"
   ]
  },
  {
   "cell_type": "code",
   "execution_count": 261,
   "metadata": {},
   "outputs": [
    {
     "name": "stdout",
     "output_type": "stream",
     "text": [
      "Model: \"sequential_11\"\n",
      "_________________________________________________________________\n",
      " Layer (type)                Output Shape              Param #   \n",
      "=================================================================\n",
      " embedding_11 (Embedding)    (None, None, 128)         128000    \n",
      "                                                                 \n",
      " lstm_11 (LSTM)              (None, 128)               131584    \n",
      "                                                                 \n",
      " dense_10 (Dense)            (None, 1)                 129       \n",
      "                                                                 \n",
      "=================================================================\n",
      "Total params: 259713 (1014.50 KB)\n",
      "Trainable params: 259713 (1014.50 KB)\n",
      "Non-trainable params: 0 (0.00 Byte)\n",
      "_________________________________________________________________\n",
      "None\n"
     ]
    }
   ],
   "source": [
    "print(model.summary())"
   ]
  },
  {
   "cell_type": "code",
   "execution_count": 262,
   "metadata": {
    "id": "PxAwEIG8ORs4"
   },
   "outputs": [
    {
     "name": "stdout",
     "output_type": "stream",
     "text": [
      "Epoch 1/10\n",
      "82/82 [==============================] - 15s 146ms/step - loss: 0.6804 - accuracy: 0.5743\n",
      "Epoch 2/10\n",
      "82/82 [==============================] - 12s 150ms/step - loss: 0.5864 - accuracy: 0.6917\n",
      "Epoch 3/10\n",
      "82/82 [==============================] - 13s 157ms/step - loss: 0.4899 - accuracy: 0.7466\n",
      "Epoch 4/10\n",
      "82/82 [==============================] - 15s 180ms/step - loss: 0.4200 - accuracy: 0.7919\n",
      "Epoch 5/10\n",
      "82/82 [==============================] - 14s 168ms/step - loss: 0.3675 - accuracy: 0.8182\n",
      "Epoch 6/10\n",
      "82/82 [==============================] - 13s 162ms/step - loss: 0.3279 - accuracy: 0.8346\n",
      "Epoch 7/10\n",
      "82/82 [==============================] - 13s 161ms/step - loss: 0.3065 - accuracy: 0.8434\n",
      "Epoch 8/10\n",
      "82/82 [==============================] - 14s 165ms/step - loss: 0.2924 - accuracy: 0.8502\n",
      "Epoch 9/10\n",
      "82/82 [==============================] - 14s 173ms/step - loss: 0.2816 - accuracy: 0.8537\n",
      "Epoch 10/10\n",
      "82/82 [==============================] - 15s 184ms/step - loss: 0.2512 - accuracy: 0.8636\n"
     ]
    },
    {
     "data": {
      "text/plain": [
       "<keras.src.callbacks.History at 0x1ee48f11a50>"
      ]
     },
     "execution_count": 262,
     "metadata": {},
     "output_type": "execute_result"
    }
   ],
   "source": [
    "model.fit(X_train, Y_train, epochs = 10 , batch_size=32, verbose = 1)"
   ]
  },
  {
   "cell_type": "code",
   "execution_count": 263,
   "metadata": {},
   "outputs": [
    {
     "name": "stdout",
     "output_type": "stream",
     "text": [
      "21/21 [==============================] - 2s 45ms/step - loss: 1.0293 - accuracy: 0.7123\n",
      "Score: 1.03\n",
      "Accuracy: 0.71\n"
     ]
    }
   ],
   "source": [
    "score,acc = model.evaluate(X_test, Y_test, verbose = 1, batch_size = 32)\n",
    "print(\"Score: %.2f\" % (score))\n",
    "print(\"Accuracy: %.2f\" % (acc))"
   ]
  },
  {
   "cell_type": "code",
   "execution_count": 264,
   "metadata": {
    "id": "JLg21wZdOVQT"
   },
   "outputs": [
    {
     "name": "stdout",
     "output_type": "stream",
     "text": [
      "1/1 [==============================] - 1s 834ms/step\n",
      "Prediction value: [0.00402975] Negative\n"
     ]
    }
   ],
   "source": [
    "text = 'Delivery was very late. Slow boot'\n",
    "tester = np.array([text])\n",
    "tester = pd.DataFrame(tester)\n",
    "tester.columns = ['text']\n",
    "\n",
    "tester['text'] = tester['text'].apply(lambda x: x.lower())\n",
    "tester['text'] = tester['text'].apply((lambda x: re.sub('[^a-zA-z0-9\\s]','',x)))\n",
    "\n",
    "max_features = 1000\n",
    "test = tokenizer.texts_to_sequences(tester['text'].values)\n",
    "test = pad_sequences(test)\n",
    "\n",
    "if X.shape[1]>test.shape[1]:\n",
    "    test = np.pad(test[0], (X.shape[1]-test.shape[1],0), 'constant')\n",
    "\n",
    "test = np.array([test])\n",
    "\n",
    "prediction = model.predict(test)\n",
    "if prediction[0] < 0.5:\n",
    "    print('Prediction value:',prediction[0], 'Negative')\n",
    "else:\n",
    "    print('Prediction value:',prediction[0], 'Positive')"
   ]
  },
  {
   "cell_type": "code",
   "execution_count": 265,
   "metadata": {},
   "outputs": [
    {
     "name": "stdout",
     "output_type": "stream",
     "text": [
      "1/1 [==============================] - 0s 67ms/step\n",
      "Prediction value: [0.98757195] Positive\n"
     ]
    }
   ],
   "source": [
    "text = 'Laptop is great. Display and performance is good while gaming and doing other tasks.'\n",
    "tester = np.array([text])\n",
    "tester = pd.DataFrame(tester)\n",
    "tester.columns = ['text']\n",
    "\n",
    "tester['text'] = tester['text'].apply(lambda x: x.lower())\n",
    "tester['text'] = tester['text'].apply((lambda x: re.sub('[^a-zA-z0-9\\s]','',x)))\n",
    "\n",
    "max_features = 1000\n",
    "test = tokenizer.texts_to_sequences(tester['text'].values)\n",
    "test = pad_sequences(test)\n",
    "\n",
    "if X.shape[1]>test.shape[1]:\n",
    "    test = np.pad(test[0], (X.shape[1]-test.shape[1],0), 'constant')\n",
    "\n",
    "test = np.array([test])\n",
    "\n",
    "prediction = model.predict(test)\n",
    "if prediction[0] < 0.5:\n",
    "    print('Prediction value:',prediction[0], 'Negative')\n",
    "else:\n",
    "    print('Prediction value:',prediction[0], 'Positive')"
   ]
  },
  {
   "cell_type": "markdown",
   "metadata": {},
   "source": [
    " <font color='brown'> Test examples work fine for both Positve and Negative comments.</font>"
   ]
  }
 ],
 "metadata": {
  "colab": {
   "provenance": []
  },
  "kernelspec": {
   "display_name": "Python 3 (ipykernel)",
   "language": "python",
   "name": "python3"
  },
  "language_info": {
   "codemirror_mode": {
    "name": "ipython",
    "version": 3
   },
   "file_extension": ".py",
   "mimetype": "text/x-python",
   "name": "python",
   "nbconvert_exporter": "python",
   "pygments_lexer": "ipython3",
   "version": "3.11.4"
  }
 },
 "nbformat": 4,
 "nbformat_minor": 1
}
